{
 "cells": [
  {
   "cell_type": "code",
   "execution_count": 64,
   "metadata": {},
   "outputs": [],
   "source": [
    "import numpy as np\n",
    "import pandas as pd\n",
    "import matplotlib.pyplot as plt\n",
    "import tensorflow as tf\n",
    "from tensorflow.keras.models import Sequential\n",
    "from tensorflow.keras.layers import Dense\n",
    "from tensorflow.keras.layers import LSTM\n",
    "from sklearn.preprocessing import MinMaxScaler\n",
    "import math \n",
    "from sklearn.metrics import mean_squared_error"
   ]
  },
  {
   "cell_type": "code",
   "execution_count": 65,
   "metadata": {},
   "outputs": [
    {
     "name": "stdout",
     "output_type": "stream",
     "text": [
      "(1174, 69, 1)\n",
      "(1174,)\n",
      "(241, 69, 1)\n",
      "(241,)\n"
     ]
    }
   ],
   "source": [
    "x_train = np.load(\"./data/x_train.npy\")\n",
    "y_train = np.load(\"./data/y_train.npy\")\n",
    "x_test = np.load(\"./data/x_test.npy\")\n",
    "y_test = np.load(\"./data/y_test.npy\")\n",
    "print(x_train.shape)\n",
    "print(y_train.shape)\n",
    "print(x_test.shape)\n",
    "print(y_test.shape)\n"
   ]
  },
  {
   "cell_type": "code",
   "execution_count": 66,
   "metadata": {},
   "outputs": [
    {
     "name": "stdout",
     "output_type": "stream",
     "text": [
      "Model: \"sequential_3\"\n",
      "_________________________________________________________________\n",
      " Layer (type)                Output Shape              Param #   \n",
      "=================================================================\n",
      " lstm_9 (LSTM)               (None, 69, 50)            10400     \n",
      "                                                                 \n",
      " lstm_10 (LSTM)              (None, 69, 50)            20200     \n",
      "                                                                 \n",
      " lstm_11 (LSTM)              (None, 50)                20200     \n",
      "                                                                 \n",
      " dense_3 (Dense)             (None, 1)                 51        \n",
      "                                                                 \n",
      "=================================================================\n",
      "Total params: 50,851\n",
      "Trainable params: 50,851\n",
      "Non-trainable params: 0\n",
      "_________________________________________________________________\n"
     ]
    }
   ],
   "source": [
    "model = Sequential()\n",
    "model.add(LSTM(50, return_sequences=True,input_shape=(69,1)))\n",
    "model.add(LSTM(50,return_sequences=True))\n",
    "model.add(LSTM(50))\n",
    "model.add(Dense(1))\n",
    "model.compile(loss='mean_squared_error',optimizer='adam')\n",
    "model.summary()\n"
   ]
  },
  {
   "cell_type": "code",
   "execution_count": 68,
   "metadata": {},
   "outputs": [
    {
     "name": "stdout",
     "output_type": "stream",
     "text": [
      "Epoch 1/25\n",
      " 7/37 [====>.........................] - ETA: 1s - loss: 0.0052"
     ]
    },
    {
     "ename": "KeyboardInterrupt",
     "evalue": "",
     "output_type": "error",
     "traceback": [
      "\u001b[0;31m---------------------------------------------------------------------------\u001b[0m",
      "\u001b[0;31mKeyboardInterrupt\u001b[0m                         Traceback (most recent call last)",
      "\u001b[0;32m/var/folders/rm/m6jph4gn7bg6xs3tfc1903sh0000gn/T/ipykernel_44649/353722582.py\u001b[0m in \u001b[0;36m<module>\u001b[0;34m\u001b[0m\n\u001b[0;32m----> 1\u001b[0;31m \u001b[0mmodel\u001b[0m\u001b[0;34m.\u001b[0m\u001b[0mfit\u001b[0m\u001b[0;34m(\u001b[0m\u001b[0mx_train\u001b[0m\u001b[0;34m,\u001b[0m\u001b[0my_train\u001b[0m\u001b[0;34m,\u001b[0m\u001b[0mvalidation_data\u001b[0m\u001b[0;34m=\u001b[0m\u001b[0;34m(\u001b[0m\u001b[0mx_test\u001b[0m\u001b[0;34m,\u001b[0m\u001b[0my_test\u001b[0m\u001b[0;34m)\u001b[0m\u001b[0;34m,\u001b[0m \u001b[0mepochs\u001b[0m\u001b[0;34m=\u001b[0m\u001b[0;36m25\u001b[0m\u001b[0;34m,\u001b[0m\u001b[0mbatch_size\u001b[0m\u001b[0;34m=\u001b[0m\u001b[0;36m32\u001b[0m\u001b[0;34m,\u001b[0m\u001b[0mverbose\u001b[0m\u001b[0;34m=\u001b[0m\u001b[0;36m1\u001b[0m\u001b[0;34m)\u001b[0m\u001b[0;34m\u001b[0m\u001b[0;34m\u001b[0m\u001b[0m\n\u001b[0m",
      "\u001b[0;32m~/miniforge3/lib/python3.9/site-packages/keras/utils/traceback_utils.py\u001b[0m in \u001b[0;36merror_handler\u001b[0;34m(*args, **kwargs)\u001b[0m\n\u001b[1;32m     62\u001b[0m     \u001b[0mfiltered_tb\u001b[0m \u001b[0;34m=\u001b[0m \u001b[0;32mNone\u001b[0m\u001b[0;34m\u001b[0m\u001b[0;34m\u001b[0m\u001b[0m\n\u001b[1;32m     63\u001b[0m     \u001b[0;32mtry\u001b[0m\u001b[0;34m:\u001b[0m\u001b[0;34m\u001b[0m\u001b[0;34m\u001b[0m\u001b[0m\n\u001b[0;32m---> 64\u001b[0;31m       \u001b[0;32mreturn\u001b[0m \u001b[0mfn\u001b[0m\u001b[0;34m(\u001b[0m\u001b[0;34m*\u001b[0m\u001b[0margs\u001b[0m\u001b[0;34m,\u001b[0m \u001b[0;34m**\u001b[0m\u001b[0mkwargs\u001b[0m\u001b[0;34m)\u001b[0m\u001b[0;34m\u001b[0m\u001b[0;34m\u001b[0m\u001b[0m\n\u001b[0m\u001b[1;32m     65\u001b[0m     \u001b[0;32mexcept\u001b[0m \u001b[0mException\u001b[0m \u001b[0;32mas\u001b[0m \u001b[0me\u001b[0m\u001b[0;34m:\u001b[0m  \u001b[0;31m# pylint: disable=broad-except\u001b[0m\u001b[0;34m\u001b[0m\u001b[0;34m\u001b[0m\u001b[0m\n\u001b[1;32m     66\u001b[0m       \u001b[0mfiltered_tb\u001b[0m \u001b[0;34m=\u001b[0m \u001b[0m_process_traceback_frames\u001b[0m\u001b[0;34m(\u001b[0m\u001b[0me\u001b[0m\u001b[0;34m.\u001b[0m\u001b[0m__traceback__\u001b[0m\u001b[0;34m)\u001b[0m\u001b[0;34m\u001b[0m\u001b[0;34m\u001b[0m\u001b[0m\n",
      "\u001b[0;32m~/miniforge3/lib/python3.9/site-packages/keras/engine/training.py\u001b[0m in \u001b[0;36mfit\u001b[0;34m(self, x, y, batch_size, epochs, verbose, callbacks, validation_split, validation_data, shuffle, class_weight, sample_weight, initial_epoch, steps_per_epoch, validation_steps, validation_batch_size, validation_freq, max_queue_size, workers, use_multiprocessing)\u001b[0m\n\u001b[1;32m   1214\u001b[0m                 _r=1):\n\u001b[1;32m   1215\u001b[0m               \u001b[0mcallbacks\u001b[0m\u001b[0;34m.\u001b[0m\u001b[0mon_train_batch_begin\u001b[0m\u001b[0;34m(\u001b[0m\u001b[0mstep\u001b[0m\u001b[0;34m)\u001b[0m\u001b[0;34m\u001b[0m\u001b[0;34m\u001b[0m\u001b[0m\n\u001b[0;32m-> 1216\u001b[0;31m               \u001b[0mtmp_logs\u001b[0m \u001b[0;34m=\u001b[0m \u001b[0mself\u001b[0m\u001b[0;34m.\u001b[0m\u001b[0mtrain_function\u001b[0m\u001b[0;34m(\u001b[0m\u001b[0miterator\u001b[0m\u001b[0;34m)\u001b[0m\u001b[0;34m\u001b[0m\u001b[0;34m\u001b[0m\u001b[0m\n\u001b[0m\u001b[1;32m   1217\u001b[0m               \u001b[0;32mif\u001b[0m \u001b[0mdata_handler\u001b[0m\u001b[0;34m.\u001b[0m\u001b[0mshould_sync\u001b[0m\u001b[0;34m:\u001b[0m\u001b[0;34m\u001b[0m\u001b[0;34m\u001b[0m\u001b[0m\n\u001b[1;32m   1218\u001b[0m                 \u001b[0mcontext\u001b[0m\u001b[0;34m.\u001b[0m\u001b[0masync_wait\u001b[0m\u001b[0;34m(\u001b[0m\u001b[0;34m)\u001b[0m\u001b[0;34m\u001b[0m\u001b[0;34m\u001b[0m\u001b[0m\n",
      "\u001b[0;32m~/miniforge3/lib/python3.9/site-packages/tensorflow/python/util/traceback_utils.py\u001b[0m in \u001b[0;36merror_handler\u001b[0;34m(*args, **kwargs)\u001b[0m\n\u001b[1;32m    148\u001b[0m     \u001b[0mfiltered_tb\u001b[0m \u001b[0;34m=\u001b[0m \u001b[0;32mNone\u001b[0m\u001b[0;34m\u001b[0m\u001b[0;34m\u001b[0m\u001b[0m\n\u001b[1;32m    149\u001b[0m     \u001b[0;32mtry\u001b[0m\u001b[0;34m:\u001b[0m\u001b[0;34m\u001b[0m\u001b[0;34m\u001b[0m\u001b[0m\n\u001b[0;32m--> 150\u001b[0;31m       \u001b[0;32mreturn\u001b[0m \u001b[0mfn\u001b[0m\u001b[0;34m(\u001b[0m\u001b[0;34m*\u001b[0m\u001b[0margs\u001b[0m\u001b[0;34m,\u001b[0m \u001b[0;34m**\u001b[0m\u001b[0mkwargs\u001b[0m\u001b[0;34m)\u001b[0m\u001b[0;34m\u001b[0m\u001b[0;34m\u001b[0m\u001b[0m\n\u001b[0m\u001b[1;32m    151\u001b[0m     \u001b[0;32mexcept\u001b[0m \u001b[0mException\u001b[0m \u001b[0;32mas\u001b[0m \u001b[0me\u001b[0m\u001b[0;34m:\u001b[0m\u001b[0;34m\u001b[0m\u001b[0;34m\u001b[0m\u001b[0m\n\u001b[1;32m    152\u001b[0m       \u001b[0mfiltered_tb\u001b[0m \u001b[0;34m=\u001b[0m \u001b[0m_process_traceback_frames\u001b[0m\u001b[0;34m(\u001b[0m\u001b[0me\u001b[0m\u001b[0;34m.\u001b[0m\u001b[0m__traceback__\u001b[0m\u001b[0;34m)\u001b[0m\u001b[0;34m\u001b[0m\u001b[0;34m\u001b[0m\u001b[0m\n",
      "\u001b[0;32m~/miniforge3/lib/python3.9/site-packages/tensorflow/python/eager/def_function.py\u001b[0m in \u001b[0;36m__call__\u001b[0;34m(self, *args, **kwds)\u001b[0m\n\u001b[1;32m    908\u001b[0m \u001b[0;34m\u001b[0m\u001b[0m\n\u001b[1;32m    909\u001b[0m       \u001b[0;32mwith\u001b[0m \u001b[0mOptionalXlaContext\u001b[0m\u001b[0;34m(\u001b[0m\u001b[0mself\u001b[0m\u001b[0;34m.\u001b[0m\u001b[0m_jit_compile\u001b[0m\u001b[0;34m)\u001b[0m\u001b[0;34m:\u001b[0m\u001b[0;34m\u001b[0m\u001b[0;34m\u001b[0m\u001b[0m\n\u001b[0;32m--> 910\u001b[0;31m         \u001b[0mresult\u001b[0m \u001b[0;34m=\u001b[0m \u001b[0mself\u001b[0m\u001b[0;34m.\u001b[0m\u001b[0m_call\u001b[0m\u001b[0;34m(\u001b[0m\u001b[0;34m*\u001b[0m\u001b[0margs\u001b[0m\u001b[0;34m,\u001b[0m \u001b[0;34m**\u001b[0m\u001b[0mkwds\u001b[0m\u001b[0;34m)\u001b[0m\u001b[0;34m\u001b[0m\u001b[0;34m\u001b[0m\u001b[0m\n\u001b[0m\u001b[1;32m    911\u001b[0m \u001b[0;34m\u001b[0m\u001b[0m\n\u001b[1;32m    912\u001b[0m       \u001b[0mnew_tracing_count\u001b[0m \u001b[0;34m=\u001b[0m \u001b[0mself\u001b[0m\u001b[0;34m.\u001b[0m\u001b[0mexperimental_get_tracing_count\u001b[0m\u001b[0;34m(\u001b[0m\u001b[0;34m)\u001b[0m\u001b[0;34m\u001b[0m\u001b[0;34m\u001b[0m\u001b[0m\n",
      "\u001b[0;32m~/miniforge3/lib/python3.9/site-packages/tensorflow/python/eager/def_function.py\u001b[0m in \u001b[0;36m_call\u001b[0;34m(self, *args, **kwds)\u001b[0m\n\u001b[1;32m    940\u001b[0m       \u001b[0;31m# In this case we have created variables on the first call, so we run the\u001b[0m\u001b[0;34m\u001b[0m\u001b[0;34m\u001b[0m\u001b[0m\n\u001b[1;32m    941\u001b[0m       \u001b[0;31m# defunned version which is guaranteed to never create variables.\u001b[0m\u001b[0;34m\u001b[0m\u001b[0;34m\u001b[0m\u001b[0m\n\u001b[0;32m--> 942\u001b[0;31m       \u001b[0;32mreturn\u001b[0m \u001b[0mself\u001b[0m\u001b[0;34m.\u001b[0m\u001b[0m_stateless_fn\u001b[0m\u001b[0;34m(\u001b[0m\u001b[0;34m*\u001b[0m\u001b[0margs\u001b[0m\u001b[0;34m,\u001b[0m \u001b[0;34m**\u001b[0m\u001b[0mkwds\u001b[0m\u001b[0;34m)\u001b[0m  \u001b[0;31m# pylint: disable=not-callable\u001b[0m\u001b[0;34m\u001b[0m\u001b[0;34m\u001b[0m\u001b[0m\n\u001b[0m\u001b[1;32m    943\u001b[0m     \u001b[0;32melif\u001b[0m \u001b[0mself\u001b[0m\u001b[0;34m.\u001b[0m\u001b[0m_stateful_fn\u001b[0m \u001b[0;32mis\u001b[0m \u001b[0;32mnot\u001b[0m \u001b[0;32mNone\u001b[0m\u001b[0;34m:\u001b[0m\u001b[0;34m\u001b[0m\u001b[0;34m\u001b[0m\u001b[0m\n\u001b[1;32m    944\u001b[0m       \u001b[0;31m# Release the lock early so that multiple threads can perform the call\u001b[0m\u001b[0;34m\u001b[0m\u001b[0;34m\u001b[0m\u001b[0m\n",
      "\u001b[0;32m~/miniforge3/lib/python3.9/site-packages/tensorflow/python/eager/function.py\u001b[0m in \u001b[0;36m__call__\u001b[0;34m(self, *args, **kwargs)\u001b[0m\n\u001b[1;32m   3128\u001b[0m       (graph_function,\n\u001b[1;32m   3129\u001b[0m        filtered_flat_args) = self._maybe_define_function(args, kwargs)\n\u001b[0;32m-> 3130\u001b[0;31m     return graph_function._call_flat(\n\u001b[0m\u001b[1;32m   3131\u001b[0m         filtered_flat_args, captured_inputs=graph_function.captured_inputs)  # pylint: disable=protected-access\n\u001b[1;32m   3132\u001b[0m \u001b[0;34m\u001b[0m\u001b[0m\n",
      "\u001b[0;32m~/miniforge3/lib/python3.9/site-packages/tensorflow/python/eager/function.py\u001b[0m in \u001b[0;36m_call_flat\u001b[0;34m(self, args, captured_inputs, cancellation_manager)\u001b[0m\n\u001b[1;32m   1957\u001b[0m         and executing_eagerly):\n\u001b[1;32m   1958\u001b[0m       \u001b[0;31m# No tape is watching; skip to running the function.\u001b[0m\u001b[0;34m\u001b[0m\u001b[0;34m\u001b[0m\u001b[0m\n\u001b[0;32m-> 1959\u001b[0;31m       return self._build_call_outputs(self._inference_function.call(\n\u001b[0m\u001b[1;32m   1960\u001b[0m           ctx, args, cancellation_manager=cancellation_manager))\n\u001b[1;32m   1961\u001b[0m     forward_backward = self._select_forward_and_backward_functions(\n",
      "\u001b[0;32m~/miniforge3/lib/python3.9/site-packages/tensorflow/python/eager/function.py\u001b[0m in \u001b[0;36mcall\u001b[0;34m(self, ctx, args, cancellation_manager)\u001b[0m\n\u001b[1;32m    596\u001b[0m       \u001b[0;32mwith\u001b[0m \u001b[0m_InterpolateFunctionError\u001b[0m\u001b[0;34m(\u001b[0m\u001b[0mself\u001b[0m\u001b[0;34m)\u001b[0m\u001b[0;34m:\u001b[0m\u001b[0;34m\u001b[0m\u001b[0;34m\u001b[0m\u001b[0m\n\u001b[1;32m    597\u001b[0m         \u001b[0;32mif\u001b[0m \u001b[0mcancellation_manager\u001b[0m \u001b[0;32mis\u001b[0m \u001b[0;32mNone\u001b[0m\u001b[0;34m:\u001b[0m\u001b[0;34m\u001b[0m\u001b[0;34m\u001b[0m\u001b[0m\n\u001b[0;32m--> 598\u001b[0;31m           outputs = execute.execute(\n\u001b[0m\u001b[1;32m    599\u001b[0m               \u001b[0mstr\u001b[0m\u001b[0;34m(\u001b[0m\u001b[0mself\u001b[0m\u001b[0;34m.\u001b[0m\u001b[0msignature\u001b[0m\u001b[0;34m.\u001b[0m\u001b[0mname\u001b[0m\u001b[0;34m)\u001b[0m\u001b[0;34m,\u001b[0m\u001b[0;34m\u001b[0m\u001b[0;34m\u001b[0m\u001b[0m\n\u001b[1;32m    600\u001b[0m               \u001b[0mnum_outputs\u001b[0m\u001b[0;34m=\u001b[0m\u001b[0mself\u001b[0m\u001b[0;34m.\u001b[0m\u001b[0m_num_outputs\u001b[0m\u001b[0;34m,\u001b[0m\u001b[0;34m\u001b[0m\u001b[0;34m\u001b[0m\u001b[0m\n",
      "\u001b[0;32m~/miniforge3/lib/python3.9/site-packages/tensorflow/python/eager/execute.py\u001b[0m in \u001b[0;36mquick_execute\u001b[0;34m(op_name, num_outputs, inputs, attrs, ctx, name)\u001b[0m\n\u001b[1;32m     56\u001b[0m   \u001b[0;32mtry\u001b[0m\u001b[0;34m:\u001b[0m\u001b[0;34m\u001b[0m\u001b[0;34m\u001b[0m\u001b[0m\n\u001b[1;32m     57\u001b[0m     \u001b[0mctx\u001b[0m\u001b[0;34m.\u001b[0m\u001b[0mensure_initialized\u001b[0m\u001b[0;34m(\u001b[0m\u001b[0;34m)\u001b[0m\u001b[0;34m\u001b[0m\u001b[0;34m\u001b[0m\u001b[0m\n\u001b[0;32m---> 58\u001b[0;31m     tensors = pywrap_tfe.TFE_Py_Execute(ctx._handle, device_name, op_name,\n\u001b[0m\u001b[1;32m     59\u001b[0m                                         inputs, attrs, num_outputs)\n\u001b[1;32m     60\u001b[0m   \u001b[0;32mexcept\u001b[0m \u001b[0mcore\u001b[0m\u001b[0;34m.\u001b[0m\u001b[0m_NotOkStatusException\u001b[0m \u001b[0;32mas\u001b[0m \u001b[0me\u001b[0m\u001b[0;34m:\u001b[0m\u001b[0;34m\u001b[0m\u001b[0;34m\u001b[0m\u001b[0m\n",
      "\u001b[0;31mKeyboardInterrupt\u001b[0m: "
     ]
    }
   ],
   "source": [
    "model.fit(x_train,y_train,validation_data=(x_test,y_test), epochs=25,batch_size=32,verbose=1)"
   ]
  },
  {
   "cell_type": "code",
   "execution_count": null,
   "metadata": {},
   "outputs": [],
   "source": [
    "#needed to do here again, purely so can do scaler inverse \n",
    "#transform, to be able to calculuse RMSE\n",
    "df = pd.read_csv('./data/ETH-CAD.csv')\n",
    "df_close = df.reset_index()['Close']\n",
    "scaler = MinMaxScaler(feature_range=(0,1))\n",
    "df_close = scaler.fit_transform(np.array(df_close).reshape(-1,1))\n",
    "\n"
   ]
  },
  {
   "cell_type": "code",
   "execution_count": null,
   "metadata": {},
   "outputs": [],
   "source": [
    "train_predict = model.predict(x_train)\n",
    "train_predict = scaler.inverse_transform(train_predict)\n",
    "test_predict = model.predict(x_test)\n",
    "test_predict = scaler.inverse_transform(test_predict)\n"
   ]
  },
  {
   "cell_type": "code",
   "execution_count": null,
   "metadata": {},
   "outputs": [
    {
     "name": "stdout",
     "output_type": "stream",
     "text": [
      "710.0964946775733\n",
      "3924.927930587252\n"
     ]
    }
   ],
   "source": [
    "print(math.sqrt(mean_squared_error(y_train, train_predict)))\n",
    "print(math.sqrt(mean_squared_error(y_test, test_predict)))"
   ]
  },
  {
   "cell_type": "code",
   "execution_count": 73,
   "metadata": {},
   "outputs": [
    {
     "data": {
      "image/png": "[encoded data removed]",
      "text/plain": [
       "<Figure size 432x288 with 1 Axes>"
      ]
     },
     "metadata": {
      "needs_background": "light"
     },
     "output_type": "display_data"
    }
   ],
   "source": [
    "look_back=69\n",
    "trainPredictPlot = np.empty_like(df_close)\n",
    "trainPredictPlot[:, :] = np.nan\n",
    "trainPredictPlot[look_back:len(train_predict)+look_back, :] = train_predict\n",
    "# shift test predictions for plotting\n",
    "testPredictPlot = np.empty_like(df_close)\n",
    "testPredictPlot[:, :] = np.nan\n",
    "testPredictPlot[len(train_predict)+(look_back*2)+1:len(df_close)-1, :] = test_predict\n",
    "# plot baseline and predictions\n",
    "plt.plot(scaler.inverse_transform(df_close))\n",
    "plt.plot(trainPredictPlot)\n",
    "plt.plot(testPredictPlot)\n",
    "plt.show()"
   ]
  },
  {
   "cell_type": "code",
   "execution_count": 74,
   "metadata": {},
   "outputs": [
    {
     "name": "stdout",
     "output_type": "stream",
     "text": [
      "311\n"
     ]
    }
   ],
   "source": [
    "training_size = int(len(df_close)*0.8)\n",
    "test_size = int(len(df_close)) - training_size\n",
    "train_data, test_data = df_close[0:training_size:],df_close[training_size:len(df_close),:1]\n",
    "print(len(test_data))"
   ]
  },
  {
   "cell_type": "code",
   "execution_count": 75,
   "metadata": {},
   "outputs": [
    {
     "data": {
      "text/plain": [
       "[0.9277710344540105,\n",
       " 0.9096786768951421,\n",
       " 0.9369076426062453,\n",
       " 0.8718762069374335,\n",
       " 0.8274295883940274,\n",
       " 0.8655442392708429,\n",
       " 0.8760479267648268,\n",
       " 0.8058446457255876,\n",
       " 0.8011593570211055,\n",
       " 0.8588776495617712,\n",
       " 0.8428253553331434,\n",
       " 0.8323488465254586,\n",
       " 0.8502104761567588,\n",
       " 0.8420884557788466,\n",
       " 0.8470412923577613,\n",
       " 0.8651171099800719,\n",
       " 0.851958555851281,\n",
       " 0.8777598512215684,\n",
       " 0.863263557209955,\n",
       " 0.873138644217608,\n",
       " 0.8681109207132749,\n",
       " 0.8596986617950422,\n",
       " 0.8100055604983035,\n",
       " 0.7703595947082733,\n",
       " 0.7866083731972422,\n",
       " 0.7731729622028851,\n",
       " 0.7919062211960851,\n",
       " 0.8060368081002337,\n",
       " 0.7972460423819472,\n",
       " 0.8013299925239752,\n",
       " 0.751978660977564,\n",
       " 0.7215721168981478,\n",
       " 0.6679476649621496,\n",
       " 0.6462088759294717,\n",
       " 0.6606305323879607,\n",
       " 0.6455296583145119,\n",
       " 0.6740708472501783,\n",
       " 0.6985098839089995,\n",
       " 0.6724173943833345,\n",
       " 0.6877214437247214,\n",
       " 0.6921059383767194,\n",
       " 0.6961769225212229,\n",
       " 0.6651806342441507,\n",
       " 0.6539084633862984,\n",
       " 0.6400879378218683,\n",
       " 0.6194384154800967,\n",
       " 0.5285405637176216,\n",
       " 0.4958310625886591,\n",
       " 0.5228539441423146,\n",
       " 0.5052766516942985,\n",
       " 0.5082523847235012,\n",
       " 0.5125095054547973,\n",
       " 0.5065410005450264,\n",
       " 0.5343617883292747,\n",
       " 0.5452268608748088,\n",
       " 0.546273946540081,\n",
       " 0.5627570684293299,\n",
       " 0.5839353284626813,\n",
       " 0.560183405413768,\n",
       " 0.5590213712066116,\n",
       " 0.6291378800496613,\n",
       " 0.6353873143383993,\n",
       " 0.6441695190122141,\n",
       " 0.6583399181605342,\n",
       " 0.6561745586148612,\n",
       " 0.6798097047889149,\n",
       " 0.6478653626273018,\n",
       " 0.6152329509002842,\n",
       " 0.6037641710108339]"
      ]
     },
     "execution_count": 75,
     "metadata": {},
     "output_type": "execute_result"
    }
   ],
   "source": [
    "x_input=test_data[242:].reshape(1,-1)\n",
    "x_input.shape\n",
    "temp_input=list(x_input)\n",
    "temp_input=temp_input[0].tolist()\n",
    "temp_input\n"
   ]
  },
  {
   "cell_type": "code",
   "execution_count": 76,
   "metadata": {},
   "outputs": [
    {
     "name": "stdout",
     "output_type": "stream",
     "text": [
      "[0.3002228]\n",
      "70\n",
      "1 day input [0.90967868 0.93690764 0.87187621 0.82742959 0.86554424 0.87604793\n",
      " 0.80584465 0.80115936 0.85887765 0.84282536 0.83234885 0.85021048\n",
      " 0.84208846 0.84704129 0.86511711 0.85195856 0.87775985 0.86326356\n",
      " 0.87313864 0.86811092 0.85969866 0.81000556 0.77035959 0.78660837\n",
      " 0.77317296 0.79190622 0.80603681 0.79724604 0.80132999 0.75197866\n",
      " 0.72157212 0.66794766 0.64620888 0.66063053 0.64552966 0.67407085\n",
      " 0.69850988 0.67241739 0.68772144 0.69210594 0.69617692 0.66518063\n",
      " 0.65390846 0.64008794 0.61943842 0.52854056 0.49583106 0.52285394\n",
      " 0.50527665 0.50825238 0.51250951 0.506541   0.53436179 0.54522686\n",
      " 0.54627395 0.56275707 0.58393533 0.56018341 0.55902137 0.62913788\n",
      " 0.63538731 0.64416952 0.65833992 0.65617456 0.6798097  0.64786536\n",
      " 0.61523295 0.60376417 0.30022281]\n",
      "1 day output [[0.29480705]]\n",
      "2 day input [0.93690764 0.87187621 0.82742959 0.86554424 0.87604793 0.80584465\n",
      " 0.80115936 0.85887765 0.84282536 0.83234885 0.85021048 0.84208846\n",
      " 0.84704129 0.86511711 0.85195856 0.87775985 0.86326356 0.87313864\n",
      " 0.86811092 0.85969866 0.81000556 0.77035959 0.78660837 0.77317296\n",
      " 0.79190622 0.80603681 0.79724604 0.80132999 0.75197866 0.72157212\n",
      " 0.66794766 0.64620888 0.66063053 0.64552966 0.67407085 0.69850988\n",
      " 0.67241739 0.68772144 0.69210594 0.69617692 0.66518063 0.65390846\n",
      " 0.64008794 0.61943842 0.52854056 0.49583106 0.52285394 0.50527665\n",
      " 0.50825238 0.51250951 0.506541   0.53436179 0.54522686 0.54627395\n",
      " 0.56275707 0.58393533 0.56018341 0.55902137 0.62913788 0.63538731\n",
      " 0.64416952 0.65833992 0.65617456 0.6798097  0.64786536 0.61523295\n",
      " 0.60376417 0.30022281 0.29480705]\n",
      "2 day output [[0.28391817]]\n",
      "3 day input [0.87187621 0.82742959 0.86554424 0.87604793 0.80584465 0.80115936\n",
      " 0.85887765 0.84282536 0.83234885 0.85021048 0.84208846 0.84704129\n",
      " 0.86511711 0.85195856 0.87775985 0.86326356 0.87313864 0.86811092\n",
      " 0.85969866 0.81000556 0.77035959 0.78660837 0.77317296 0.79190622\n",
      " 0.80603681 0.79724604 0.80132999 0.75197866 0.72157212 0.66794766\n",
      " 0.64620888 0.66063053 0.64552966 0.67407085 0.69850988 0.67241739\n",
      " 0.68772144 0.69210594 0.69617692 0.66518063 0.65390846 0.64008794\n",
      " 0.61943842 0.52854056 0.49583106 0.52285394 0.50527665 0.50825238\n",
      " 0.51250951 0.506541   0.53436179 0.54522686 0.54627395 0.56275707\n",
      " 0.58393533 0.56018341 0.55902137 0.62913788 0.63538731 0.64416952\n",
      " 0.65833992 0.65617456 0.6798097  0.64786536 0.61523295 0.60376417\n",
      " 0.30022281 0.29480705 0.28391817]\n",
      "3 day output [[0.26982397]]\n",
      "4 day input [0.82742959 0.86554424 0.87604793 0.80584465 0.80115936 0.85887765\n",
      " 0.84282536 0.83234885 0.85021048 0.84208846 0.84704129 0.86511711\n",
      " 0.85195856 0.87775985 0.86326356 0.87313864 0.86811092 0.85969866\n",
      " 0.81000556 0.77035959 0.78660837 0.77317296 0.79190622 0.80603681\n",
      " 0.79724604 0.80132999 0.75197866 0.72157212 0.66794766 0.64620888\n",
      " 0.66063053 0.64552966 0.67407085 0.69850988 0.67241739 0.68772144\n",
      " 0.69210594 0.69617692 0.66518063 0.65390846 0.64008794 0.61943842\n",
      " 0.52854056 0.49583106 0.52285394 0.50527665 0.50825238 0.51250951\n",
      " 0.506541   0.53436179 0.54522686 0.54627395 0.56275707 0.58393533\n",
      " 0.56018341 0.55902137 0.62913788 0.63538731 0.64416952 0.65833992\n",
      " 0.65617456 0.6798097  0.64786536 0.61523295 0.60376417 0.30022281\n",
      " 0.29480705 0.28391817 0.26982397]\n",
      "4 day output [[0.25456202]]\n",
      "5 day input [0.86554424 0.87604793 0.80584465 0.80115936 0.85887765 0.84282536\n",
      " 0.83234885 0.85021048 0.84208846 0.84704129 0.86511711 0.85195856\n",
      " 0.87775985 0.86326356 0.87313864 0.86811092 0.85969866 0.81000556\n",
      " 0.77035959 0.78660837 0.77317296 0.79190622 0.80603681 0.79724604\n",
      " 0.80132999 0.75197866 0.72157212 0.66794766 0.64620888 0.66063053\n",
      " 0.64552966 0.67407085 0.69850988 0.67241739 0.68772144 0.69210594\n",
      " 0.69617692 0.66518063 0.65390846 0.64008794 0.61943842 0.52854056\n",
      " 0.49583106 0.52285394 0.50527665 0.50825238 0.51250951 0.506541\n",
      " 0.53436179 0.54522686 0.54627395 0.56275707 0.58393533 0.56018341\n",
      " 0.55902137 0.62913788 0.63538731 0.64416952 0.65833992 0.65617456\n",
      " 0.6798097  0.64786536 0.61523295 0.60376417 0.30022281 0.29480705\n",
      " 0.28391817 0.26982397 0.25456202]\n",
      "5 day output [[0.23948985]]\n",
      "6 day input [0.87604793 0.80584465 0.80115936 0.85887765 0.84282536 0.83234885\n",
      " 0.85021048 0.84208846 0.84704129 0.86511711 0.85195856 0.87775985\n",
      " 0.86326356 0.87313864 0.86811092 0.85969866 0.81000556 0.77035959\n",
      " 0.78660837 0.77317296 0.79190622 0.80603681 0.79724604 0.80132999\n",
      " 0.75197866 0.72157212 0.66794766 0.64620888 0.66063053 0.64552966\n",
      " 0.67407085 0.69850988 0.67241739 0.68772144 0.69210594 0.69617692\n",
      " 0.66518063 0.65390846 0.64008794 0.61943842 0.52854056 0.49583106\n",
      " 0.52285394 0.50527665 0.50825238 0.51250951 0.506541   0.53436179\n",
      " 0.54522686 0.54627395 0.56275707 0.58393533 0.56018341 0.55902137\n",
      " 0.62913788 0.63538731 0.64416952 0.65833992 0.65617456 0.6798097\n",
      " 0.64786536 0.61523295 0.60376417 0.30022281 0.29480705 0.28391817\n",
      " 0.26982397 0.25456202 0.23948985]\n",
      "6 day output [[0.22534637]]\n",
      "7 day input [0.80584465 0.80115936 0.85887765 0.84282536 0.83234885 0.85021048\n",
      " 0.84208846 0.84704129 0.86511711 0.85195856 0.87775985 0.86326356\n",
      " 0.87313864 0.86811092 0.85969866 0.81000556 0.77035959 0.78660837\n",
      " 0.77317296 0.79190622 0.80603681 0.79724604 0.80132999 0.75197866\n",
      " 0.72157212 0.66794766 0.64620888 0.66063053 0.64552966 0.67407085\n",
      " 0.69850988 0.67241739 0.68772144 0.69210594 0.69617692 0.66518063\n",
      " 0.65390846 0.64008794 0.61943842 0.52854056 0.49583106 0.52285394\n",
      " 0.50527665 0.50825238 0.51250951 0.506541   0.53436179 0.54522686\n",
      " 0.54627395 0.56275707 0.58393533 0.56018341 0.55902137 0.62913788\n",
      " 0.63538731 0.64416952 0.65833992 0.65617456 0.6798097  0.64786536\n",
      " 0.61523295 0.60376417 0.30022281 0.29480705 0.28391817 0.26982397\n",
      " 0.25456202 0.23948985 0.22534637]\n",
      "7 day output [[0.2124474]]\n",
      "8 day input [0.80115936 0.85887765 0.84282536 0.83234885 0.85021048 0.84208846\n",
      " 0.84704129 0.86511711 0.85195856 0.87775985 0.86326356 0.87313864\n",
      " 0.86811092 0.85969866 0.81000556 0.77035959 0.78660837 0.77317296\n",
      " 0.79190622 0.80603681 0.79724604 0.80132999 0.75197866 0.72157212\n",
      " 0.66794766 0.64620888 0.66063053 0.64552966 0.67407085 0.69850988\n",
      " 0.67241739 0.68772144 0.69210594 0.69617692 0.66518063 0.65390846\n",
      " 0.64008794 0.61943842 0.52854056 0.49583106 0.52285394 0.50527665\n",
      " 0.50825238 0.51250951 0.506541   0.53436179 0.54522686 0.54627395\n",
      " 0.56275707 0.58393533 0.56018341 0.55902137 0.62913788 0.63538731\n",
      " 0.64416952 0.65833992 0.65617456 0.6798097  0.64786536 0.61523295\n",
      " 0.60376417 0.30022281 0.29480705 0.28391817 0.26982397 0.25456202\n",
      " 0.23948985 0.22534637 0.2124474 ]\n",
      "8 day output [[0.20086414]]\n",
      "9 day input [0.85887765 0.84282536 0.83234885 0.85021048 0.84208846 0.84704129\n",
      " 0.86511711 0.85195856 0.87775985 0.86326356 0.87313864 0.86811092\n",
      " 0.85969866 0.81000556 0.77035959 0.78660837 0.77317296 0.79190622\n",
      " 0.80603681 0.79724604 0.80132999 0.75197866 0.72157212 0.66794766\n",
      " 0.64620888 0.66063053 0.64552966 0.67407085 0.69850988 0.67241739\n",
      " 0.68772144 0.69210594 0.69617692 0.66518063 0.65390846 0.64008794\n",
      " 0.61943842 0.52854056 0.49583106 0.52285394 0.50527665 0.50825238\n",
      " 0.51250951 0.506541   0.53436179 0.54522686 0.54627395 0.56275707\n",
      " 0.58393533 0.56018341 0.55902137 0.62913788 0.63538731 0.64416952\n",
      " 0.65833992 0.65617456 0.6798097  0.64786536 0.61523295 0.60376417\n",
      " 0.30022281 0.29480705 0.28391817 0.26982397 0.25456202 0.23948985\n",
      " 0.22534637 0.2124474  0.20086414]\n",
      "9 day output [[0.19054557]]\n",
      "10 day input [0.84282536 0.83234885 0.85021048 0.84208846 0.84704129 0.86511711\n",
      " 0.85195856 0.87775985 0.86326356 0.87313864 0.86811092 0.85969866\n",
      " 0.81000556 0.77035959 0.78660837 0.77317296 0.79190622 0.80603681\n",
      " 0.79724604 0.80132999 0.75197866 0.72157212 0.66794766 0.64620888\n",
      " 0.66063053 0.64552966 0.67407085 0.69850988 0.67241739 0.68772144\n",
      " 0.69210594 0.69617692 0.66518063 0.65390846 0.64008794 0.61943842\n",
      " 0.52854056 0.49583106 0.52285394 0.50527665 0.50825238 0.51250951\n",
      " 0.506541   0.53436179 0.54522686 0.54627395 0.56275707 0.58393533\n",
      " 0.56018341 0.55902137 0.62913788 0.63538731 0.64416952 0.65833992\n",
      " 0.65617456 0.6798097  0.64786536 0.61523295 0.60376417 0.30022281\n",
      " 0.29480705 0.28391817 0.26982397 0.25456202 0.23948985 0.22534637\n",
      " 0.2124474  0.20086414 0.19054557]\n",
      "10 day output [[0.18138997]]\n",
      "11 day input [0.83234885 0.85021048 0.84208846 0.84704129 0.86511711 0.85195856\n",
      " 0.87775985 0.86326356 0.87313864 0.86811092 0.85969866 0.81000556\n",
      " 0.77035959 0.78660837 0.77317296 0.79190622 0.80603681 0.79724604\n",
      " 0.80132999 0.75197866 0.72157212 0.66794766 0.64620888 0.66063053\n",
      " 0.64552966 0.67407085 0.69850988 0.67241739 0.68772144 0.69210594\n",
      " 0.69617692 0.66518063 0.65390846 0.64008794 0.61943842 0.52854056\n",
      " 0.49583106 0.52285394 0.50527665 0.50825238 0.51250951 0.506541\n",
      " 0.53436179 0.54522686 0.54627395 0.56275707 0.58393533 0.56018341\n",
      " 0.55902137 0.62913788 0.63538731 0.64416952 0.65833992 0.65617456\n",
      " 0.6798097  0.64786536 0.61523295 0.60376417 0.30022281 0.29480705\n",
      " 0.28391817 0.26982397 0.25456202 0.23948985 0.22534637 0.2124474\n",
      " 0.20086414 0.19054557 0.18138997]\n",
      "11 day output [[0.1732817]]\n",
      "12 day input [0.85021048 0.84208846 0.84704129 0.86511711 0.85195856 0.87775985\n",
      " 0.86326356 0.87313864 0.86811092 0.85969866 0.81000556 0.77035959\n",
      " 0.78660837 0.77317296 0.79190622 0.80603681 0.79724604 0.80132999\n",
      " 0.75197866 0.72157212 0.66794766 0.64620888 0.66063053 0.64552966\n",
      " 0.67407085 0.69850988 0.67241739 0.68772144 0.69210594 0.69617692\n",
      " 0.66518063 0.65390846 0.64008794 0.61943842 0.52854056 0.49583106\n",
      " 0.52285394 0.50527665 0.50825238 0.51250951 0.506541   0.53436179\n",
      " 0.54522686 0.54627395 0.56275707 0.58393533 0.56018341 0.55902137\n",
      " 0.62913788 0.63538731 0.64416952 0.65833992 0.65617456 0.6798097\n",
      " 0.64786536 0.61523295 0.60376417 0.30022281 0.29480705 0.28391817\n",
      " 0.26982397 0.25456202 0.23948985 0.22534637 0.2124474  0.20086414\n",
      " 0.19054557 0.18138997 0.1732817 ]\n",
      "12 day output [[0.16610798]]\n",
      "13 day input [0.84208846 0.84704129 0.86511711 0.85195856 0.87775985 0.86326356\n",
      " 0.87313864 0.86811092 0.85969866 0.81000556 0.77035959 0.78660837\n",
      " 0.77317296 0.79190622 0.80603681 0.79724604 0.80132999 0.75197866\n",
      " 0.72157212 0.66794766 0.64620888 0.66063053 0.64552966 0.67407085\n",
      " 0.69850988 0.67241739 0.68772144 0.69210594 0.69617692 0.66518063\n",
      " 0.65390846 0.64008794 0.61943842 0.52854056 0.49583106 0.52285394\n",
      " 0.50527665 0.50825238 0.51250951 0.506541   0.53436179 0.54522686\n",
      " 0.54627395 0.56275707 0.58393533 0.56018341 0.55902137 0.62913788\n",
      " 0.63538731 0.64416952 0.65833992 0.65617456 0.6798097  0.64786536\n",
      " 0.61523295 0.60376417 0.30022281 0.29480705 0.28391817 0.26982397\n",
      " 0.25456202 0.23948985 0.22534637 0.2124474  0.20086414 0.19054557\n",
      " 0.18138997 0.1732817  0.16610798]\n",
      "13 day output [[0.15976466]]\n",
      "14 day input [0.84704129 0.86511711 0.85195856 0.87775985 0.86326356 0.87313864\n",
      " 0.86811092 0.85969866 0.81000556 0.77035959 0.78660837 0.77317296\n",
      " 0.79190622 0.80603681 0.79724604 0.80132999 0.75197866 0.72157212\n",
      " 0.66794766 0.64620888 0.66063053 0.64552966 0.67407085 0.69850988\n",
      " 0.67241739 0.68772144 0.69210594 0.69617692 0.66518063 0.65390846\n",
      " 0.64008794 0.61943842 0.52854056 0.49583106 0.52285394 0.50527665\n",
      " 0.50825238 0.51250951 0.506541   0.53436179 0.54522686 0.54627395\n",
      " 0.56275707 0.58393533 0.56018341 0.55902137 0.62913788 0.63538731\n",
      " 0.64416952 0.65833992 0.65617456 0.6798097  0.64786536 0.61523295\n",
      " 0.60376417 0.30022281 0.29480705 0.28391817 0.26982397 0.25456202\n",
      " 0.23948985 0.22534637 0.2124474  0.20086414 0.19054557 0.18138997\n",
      " 0.1732817  0.16610798 0.15976466]\n",
      "14 day output [[0.15415837]]\n",
      "15 day input [0.86511711 0.85195856 0.87775985 0.86326356 0.87313864 0.86811092\n",
      " 0.85969866 0.81000556 0.77035959 0.78660837 0.77317296 0.79190622\n",
      " 0.80603681 0.79724604 0.80132999 0.75197866 0.72157212 0.66794766\n",
      " 0.64620888 0.66063053 0.64552966 0.67407085 0.69850988 0.67241739\n",
      " 0.68772144 0.69210594 0.69617692 0.66518063 0.65390846 0.64008794\n",
      " 0.61943842 0.52854056 0.49583106 0.52285394 0.50527665 0.50825238\n",
      " 0.51250951 0.506541   0.53436179 0.54522686 0.54627395 0.56275707\n",
      " 0.58393533 0.56018341 0.55902137 0.62913788 0.63538731 0.64416952\n",
      " 0.65833992 0.65617456 0.6798097  0.64786536 0.61523295 0.60376417\n",
      " 0.30022281 0.29480705 0.28391817 0.26982397 0.25456202 0.23948985\n",
      " 0.22534637 0.2124474  0.20086414 0.19054557 0.18138997 0.1732817\n",
      " 0.16610798 0.15976466 0.15415837]\n",
      "15 day output [[0.14920513]]\n",
      "16 day input [0.85195856 0.87775985 0.86326356 0.87313864 0.86811092 0.85969866\n",
      " 0.81000556 0.77035959 0.78660837 0.77317296 0.79190622 0.80603681\n",
      " 0.79724604 0.80132999 0.75197866 0.72157212 0.66794766 0.64620888\n",
      " 0.66063053 0.64552966 0.67407085 0.69850988 0.67241739 0.68772144\n",
      " 0.69210594 0.69617692 0.66518063 0.65390846 0.64008794 0.61943842\n",
      " 0.52854056 0.49583106 0.52285394 0.50527665 0.50825238 0.51250951\n",
      " 0.506541   0.53436179 0.54522686 0.54627395 0.56275707 0.58393533\n",
      " 0.56018341 0.55902137 0.62913788 0.63538731 0.64416952 0.65833992\n",
      " 0.65617456 0.6798097  0.64786536 0.61523295 0.60376417 0.30022281\n",
      " 0.29480705 0.28391817 0.26982397 0.25456202 0.23948985 0.22534637\n",
      " 0.2124474  0.20086414 0.19054557 0.18138997 0.1732817  0.16610798\n",
      " 0.15976466 0.15415837 0.14920513]\n",
      "16 day output [[0.14483085]]\n",
      "17 day input [0.87775985 0.86326356 0.87313864 0.86811092 0.85969866 0.81000556\n",
      " 0.77035959 0.78660837 0.77317296 0.79190622 0.80603681 0.79724604\n",
      " 0.80132999 0.75197866 0.72157212 0.66794766 0.64620888 0.66063053\n",
      " 0.64552966 0.67407085 0.69850988 0.67241739 0.68772144 0.69210594\n",
      " 0.69617692 0.66518063 0.65390846 0.64008794 0.61943842 0.52854056\n",
      " 0.49583106 0.52285394 0.50527665 0.50825238 0.51250951 0.506541\n",
      " 0.53436179 0.54522686 0.54627395 0.56275707 0.58393533 0.56018341\n",
      " 0.55902137 0.62913788 0.63538731 0.64416952 0.65833992 0.65617456\n",
      " 0.6798097  0.64786536 0.61523295 0.60376417 0.30022281 0.29480705\n",
      " 0.28391817 0.26982397 0.25456202 0.23948985 0.22534637 0.2124474\n",
      " 0.20086414 0.19054557 0.18138997 0.1732817  0.16610798 0.15976466\n",
      " 0.15415837 0.14920513 0.14483085]\n",
      "17 day output [[0.14096902]]\n",
      "18 day input [0.86326356 0.87313864 0.86811092 0.85969866 0.81000556 0.77035959\n",
      " 0.78660837 0.77317296 0.79190622 0.80603681 0.79724604 0.80132999\n",
      " 0.75197866 0.72157212 0.66794766 0.64620888 0.66063053 0.64552966\n",
      " 0.67407085 0.69850988 0.67241739 0.68772144 0.69210594 0.69617692\n",
      " 0.66518063 0.65390846 0.64008794 0.61943842 0.52854056 0.49583106\n",
      " 0.52285394 0.50527665 0.50825238 0.51250951 0.506541   0.53436179\n",
      " 0.54522686 0.54627395 0.56275707 0.58393533 0.56018341 0.55902137\n",
      " 0.62913788 0.63538731 0.64416952 0.65833992 0.65617456 0.6798097\n",
      " 0.64786536 0.61523295 0.60376417 0.30022281 0.29480705 0.28391817\n",
      " 0.26982397 0.25456202 0.23948985 0.22534637 0.2124474  0.20086414\n",
      " 0.19054557 0.18138997 0.1732817  0.16610798 0.15976466 0.15415837\n",
      " 0.14920513 0.14483085 0.14096902]\n",
      "18 day output [[0.13756081]]\n",
      "19 day input [0.87313864 0.86811092 0.85969866 0.81000556 0.77035959 0.78660837\n",
      " 0.77317296 0.79190622 0.80603681 0.79724604 0.80132999 0.75197866\n",
      " 0.72157212 0.66794766 0.64620888 0.66063053 0.64552966 0.67407085\n",
      " 0.69850988 0.67241739 0.68772144 0.69210594 0.69617692 0.66518063\n",
      " 0.65390846 0.64008794 0.61943842 0.52854056 0.49583106 0.52285394\n",
      " 0.50527665 0.50825238 0.51250951 0.506541   0.53436179 0.54522686\n",
      " 0.54627395 0.56275707 0.58393533 0.56018341 0.55902137 0.62913788\n",
      " 0.63538731 0.64416952 0.65833992 0.65617456 0.6798097  0.64786536\n",
      " 0.61523295 0.60376417 0.30022281 0.29480705 0.28391817 0.26982397\n",
      " 0.25456202 0.23948985 0.22534637 0.2124474  0.20086414 0.19054557\n",
      " 0.18138997 0.1732817  0.16610798 0.15976466 0.15415837 0.14920513\n",
      " 0.14483085 0.14096902 0.13756081]\n",
      "19 day output [[0.1345537]]\n",
      "20 day input [0.86811092 0.85969866 0.81000556 0.77035959 0.78660837 0.77317296\n",
      " 0.79190622 0.80603681 0.79724604 0.80132999 0.75197866 0.72157212\n",
      " 0.66794766 0.64620888 0.66063053 0.64552966 0.67407085 0.69850988\n",
      " 0.67241739 0.68772144 0.69210594 0.69617692 0.66518063 0.65390846\n",
      " 0.64008794 0.61943842 0.52854056 0.49583106 0.52285394 0.50527665\n",
      " 0.50825238 0.51250951 0.506541   0.53436179 0.54522686 0.54627395\n",
      " 0.56275707 0.58393533 0.56018341 0.55902137 0.62913788 0.63538731\n",
      " 0.64416952 0.65833992 0.65617456 0.6798097  0.64786536 0.61523295\n",
      " 0.60376417 0.30022281 0.29480705 0.28391817 0.26982397 0.25456202\n",
      " 0.23948985 0.22534637 0.2124474  0.20086414 0.19054557 0.18138997\n",
      " 0.1732817  0.16610798 0.15976466 0.15415837 0.14920513 0.14483085\n",
      " 0.14096902 0.13756081 0.1345537 ]\n",
      "20 day output [[0.13190122]]\n",
      "21 day input [0.85969866 0.81000556 0.77035959 0.78660837 0.77317296 0.79190622\n",
      " 0.80603681 0.79724604 0.80132999 0.75197866 0.72157212 0.66794766\n",
      " 0.64620888 0.66063053 0.64552966 0.67407085 0.69850988 0.67241739\n",
      " 0.68772144 0.69210594 0.69617692 0.66518063 0.65390846 0.64008794\n",
      " 0.61943842 0.52854056 0.49583106 0.52285394 0.50527665 0.50825238\n",
      " 0.51250951 0.506541   0.53436179 0.54522686 0.54627395 0.56275707\n",
      " 0.58393533 0.56018341 0.55902137 0.62913788 0.63538731 0.64416952\n",
      " 0.65833992 0.65617456 0.6798097  0.64786536 0.61523295 0.60376417\n",
      " 0.30022281 0.29480705 0.28391817 0.26982397 0.25456202 0.23948985\n",
      " 0.22534637 0.2124474  0.20086414 0.19054557 0.18138997 0.1732817\n",
      " 0.16610798 0.15976466 0.15415837 0.14920513 0.14483085 0.14096902\n",
      " 0.13756081 0.1345537  0.13190122]\n",
      "21 day output [[0.12956187]]\n",
      "22 day input [0.81000556 0.77035959 0.78660837 0.77317296 0.79190622 0.80603681\n",
      " 0.79724604 0.80132999 0.75197866 0.72157212 0.66794766 0.64620888\n",
      " 0.66063053 0.64552966 0.67407085 0.69850988 0.67241739 0.68772144\n",
      " 0.69210594 0.69617692 0.66518063 0.65390846 0.64008794 0.61943842\n",
      " 0.52854056 0.49583106 0.52285394 0.50527665 0.50825238 0.51250951\n",
      " 0.506541   0.53436179 0.54522686 0.54627395 0.56275707 0.58393533\n",
      " 0.56018341 0.55902137 0.62913788 0.63538731 0.64416952 0.65833992\n",
      " 0.65617456 0.6798097  0.64786536 0.61523295 0.60376417 0.30022281\n",
      " 0.29480705 0.28391817 0.26982397 0.25456202 0.23948985 0.22534637\n",
      " 0.2124474  0.20086414 0.19054557 0.18138997 0.1732817  0.16610798\n",
      " 0.15976466 0.15415837 0.14920513 0.14483085 0.14096902 0.13756081\n",
      " 0.1345537  0.13190122 0.12956187]\n",
      "22 day output [[0.12749925]]\n",
      "23 day input [0.77035959 0.78660837 0.77317296 0.79190622 0.80603681 0.79724604\n",
      " 0.80132999 0.75197866 0.72157212 0.66794766 0.64620888 0.66063053\n",
      " 0.64552966 0.67407085 0.69850988 0.67241739 0.68772144 0.69210594\n",
      " 0.69617692 0.66518063 0.65390846 0.64008794 0.61943842 0.52854056\n",
      " 0.49583106 0.52285394 0.50527665 0.50825238 0.51250951 0.506541\n",
      " 0.53436179 0.54522686 0.54627395 0.56275707 0.58393533 0.56018341\n",
      " 0.55902137 0.62913788 0.63538731 0.64416952 0.65833992 0.65617456\n",
      " 0.6798097  0.64786536 0.61523295 0.60376417 0.30022281 0.29480705\n",
      " 0.28391817 0.26982397 0.25456202 0.23948985 0.22534637 0.2124474\n",
      " 0.20086414 0.19054557 0.18138997 0.1732817  0.16610798 0.15976466\n",
      " 0.15415837 0.14920513 0.14483085 0.14096902 0.13756081 0.1345537\n",
      " 0.13190122 0.12956187 0.12749925]\n",
      "23 day output [[0.1256808]]\n",
      "24 day input [0.78660837 0.77317296 0.79190622 0.80603681 0.79724604 0.80132999\n",
      " 0.75197866 0.72157212 0.66794766 0.64620888 0.66063053 0.64552966\n",
      " 0.67407085 0.69850988 0.67241739 0.68772144 0.69210594 0.69617692\n",
      " 0.66518063 0.65390846 0.64008794 0.61943842 0.52854056 0.49583106\n",
      " 0.52285394 0.50527665 0.50825238 0.51250951 0.506541   0.53436179\n",
      " 0.54522686 0.54627395 0.56275707 0.58393533 0.56018341 0.55902137\n",
      " 0.62913788 0.63538731 0.64416952 0.65833992 0.65617456 0.6798097\n",
      " 0.64786536 0.61523295 0.60376417 0.30022281 0.29480705 0.28391817\n",
      " 0.26982397 0.25456202 0.23948985 0.22534637 0.2124474  0.20086414\n",
      " 0.19054557 0.18138997 0.1732817  0.16610798 0.15976466 0.15415837\n",
      " 0.14920513 0.14483085 0.14096902 0.13756081 0.1345537  0.13190122\n",
      " 0.12956187 0.12749925 0.1256808 ]\n",
      "24 day output [[0.1240778]]\n",
      "25 day input [0.77317296 0.79190622 0.80603681 0.79724604 0.80132999 0.75197866\n",
      " 0.72157212 0.66794766 0.64620888 0.66063053 0.64552966 0.67407085\n",
      " 0.69850988 0.67241739 0.68772144 0.69210594 0.69617692 0.66518063\n",
      " 0.65390846 0.64008794 0.61943842 0.52854056 0.49583106 0.52285394\n",
      " 0.50527665 0.50825238 0.51250951 0.506541   0.53436179 0.54522686\n",
      " 0.54627395 0.56275707 0.58393533 0.56018341 0.55902137 0.62913788\n",
      " 0.63538731 0.64416952 0.65833992 0.65617456 0.6798097  0.64786536\n",
      " 0.61523295 0.60376417 0.30022281 0.29480705 0.28391817 0.26982397\n",
      " 0.25456202 0.23948985 0.22534637 0.2124474  0.20086414 0.19054557\n",
      " 0.18138997 0.1732817  0.16610798 0.15976466 0.15415837 0.14920513\n",
      " 0.14483085 0.14096902 0.13756081 0.1345537  0.13190122 0.12956187\n",
      " 0.12749925 0.1256808  0.1240778 ]\n",
      "25 day output [[0.122665]]\n",
      "26 day input [0.79190622 0.80603681 0.79724604 0.80132999 0.75197866 0.72157212\n",
      " 0.66794766 0.64620888 0.66063053 0.64552966 0.67407085 0.69850988\n",
      " 0.67241739 0.68772144 0.69210594 0.69617692 0.66518063 0.65390846\n",
      " 0.64008794 0.61943842 0.52854056 0.49583106 0.52285394 0.50527665\n",
      " 0.50825238 0.51250951 0.506541   0.53436179 0.54522686 0.54627395\n",
      " 0.56275707 0.58393533 0.56018341 0.55902137 0.62913788 0.63538731\n",
      " 0.64416952 0.65833992 0.65617456 0.6798097  0.64786536 0.61523295\n",
      " 0.60376417 0.30022281 0.29480705 0.28391817 0.26982397 0.25456202\n",
      " 0.23948985 0.22534637 0.2124474  0.20086414 0.19054557 0.18138997\n",
      " 0.1732817  0.16610798 0.15976466 0.15415837 0.14920513 0.14483085\n",
      " 0.14096902 0.13756081 0.1345537  0.13190122 0.12956187 0.12749925\n",
      " 0.1256808  0.1240778  0.122665  ]\n",
      "26 day output [[0.12141993]]\n",
      "27 day input [0.80603681 0.79724604 0.80132999 0.75197866 0.72157212 0.66794766\n",
      " 0.64620888 0.66063053 0.64552966 0.67407085 0.69850988 0.67241739\n",
      " 0.68772144 0.69210594 0.69617692 0.66518063 0.65390846 0.64008794\n",
      " 0.61943842 0.52854056 0.49583106 0.52285394 0.50527665 0.50825238\n",
      " 0.51250951 0.506541   0.53436179 0.54522686 0.54627395 0.56275707\n",
      " 0.58393533 0.56018341 0.55902137 0.62913788 0.63538731 0.64416952\n",
      " 0.65833992 0.65617456 0.6798097  0.64786536 0.61523295 0.60376417\n",
      " 0.30022281 0.29480705 0.28391817 0.26982397 0.25456202 0.23948985\n",
      " 0.22534637 0.2124474  0.20086414 0.19054557 0.18138997 0.1732817\n",
      " 0.16610798 0.15976466 0.15415837 0.14920513 0.14483085 0.14096902\n",
      " 0.13756081 0.1345537  0.13190122 0.12956187 0.12749925 0.1256808\n",
      " 0.1240778  0.122665   0.12141993]\n",
      "27 day output [[0.12032273]]\n",
      "28 day input [0.79724604 0.80132999 0.75197866 0.72157212 0.66794766 0.64620888\n",
      " 0.66063053 0.64552966 0.67407085 0.69850988 0.67241739 0.68772144\n",
      " 0.69210594 0.69617692 0.66518063 0.65390846 0.64008794 0.61943842\n",
      " 0.52854056 0.49583106 0.52285394 0.50527665 0.50825238 0.51250951\n",
      " 0.506541   0.53436179 0.54522686 0.54627395 0.56275707 0.58393533\n",
      " 0.56018341 0.55902137 0.62913788 0.63538731 0.64416952 0.65833992\n",
      " 0.65617456 0.6798097  0.64786536 0.61523295 0.60376417 0.30022281\n",
      " 0.29480705 0.28391817 0.26982397 0.25456202 0.23948985 0.22534637\n",
      " 0.2124474  0.20086414 0.19054557 0.18138997 0.1732817  0.16610798\n",
      " 0.15976466 0.15415837 0.14920513 0.14483085 0.14096902 0.13756081\n",
      " 0.1345537  0.13190122 0.12956187 0.12749925 0.1256808  0.1240778\n",
      " 0.122665   0.12141993 0.12032273]\n",
      "28 day output [[0.11935592]]\n",
      "29 day input [0.80132999 0.75197866 0.72157212 0.66794766 0.64620888 0.66063053\n",
      " 0.64552966 0.67407085 0.69850988 0.67241739 0.68772144 0.69210594\n",
      " 0.69617692 0.66518063 0.65390846 0.64008794 0.61943842 0.52854056\n",
      " 0.49583106 0.52285394 0.50527665 0.50825238 0.51250951 0.506541\n",
      " 0.53436179 0.54522686 0.54627395 0.56275707 0.58393533 0.56018341\n",
      " 0.55902137 0.62913788 0.63538731 0.64416952 0.65833992 0.65617456\n",
      " 0.6798097  0.64786536 0.61523295 0.60376417 0.30022281 0.29480705\n",
      " 0.28391817 0.26982397 0.25456202 0.23948985 0.22534637 0.2124474\n",
      " 0.20086414 0.19054557 0.18138997 0.1732817  0.16610798 0.15976466\n",
      " 0.15415837 0.14920513 0.14483085 0.14096902 0.13756081 0.1345537\n",
      " 0.13190122 0.12956187 0.12749925 0.1256808  0.1240778  0.122665\n",
      " 0.12141993 0.12032273 0.11935592]\n",
      "29 day output [[0.11850408]]\n",
      "[[0.30022281408309937], [0.2948070466518402], [0.283918172121048], [0.26982396841049194], [0.25456202030181885], [0.2394898533821106], [0.2253463715314865], [0.2124474048614502], [0.20086413621902466], [0.19054557383060455], [0.1813899725675583], [0.1732816994190216], [0.16610798239707947], [0.15976466238498688], [0.15415836870670319], [0.14920513331890106], [0.1448308527469635], [0.14096902310848236], [0.13756081461906433], [0.1345537006855011], [0.13190121948719025], [0.1295618712902069], [0.12749925255775452], [0.1256808042526245], [0.12407780438661575], [0.12266500294208527], [0.12141992896795273], [0.12032273411750793], [0.11935591697692871], [0.11850407719612122]]\n"
     ]
    }
   ],
   "source": [
    "lst_output=[]\n",
    "n_steps=69\n",
    "i=0\n",
    "while(i<30):\n",
    "    \n",
    "    if(len(temp_input)>69):\n",
    "        #print(temp_input)\n",
    "        x_input=np.array(temp_input[1:])\n",
    "        print(\"{} day input {}\".format(i,x_input))\n",
    "        x_input=x_input.reshape(1,-1)\n",
    "        x_input = x_input.reshape((1, n_steps, 1))\n",
    "        #print(x_input)\n",
    "        yhat = model.predict(x_input, verbose=0)\n",
    "        print(\"{} day output {}\".format(i,yhat))\n",
    "        temp_input.extend(yhat[0].tolist())\n",
    "        temp_input=temp_input[1:]\n",
    "        #print(temp_input)\n",
    "        lst_output.extend(yhat.tolist())\n",
    "        i=i+1\n",
    "    else:\n",
    "        x_input = x_input.reshape((1, n_steps,1))\n",
    "        yhat = model.predict(x_input, verbose=0)\n",
    "        print(yhat[0])\n",
    "        temp_input.extend(yhat[0].tolist())\n",
    "        print(len(temp_input))\n",
    "        lst_output.extend(yhat.tolist())\n",
    "        i=i+1\n",
    "    \n",
    "\n",
    "print(lst_output)"
   ]
  },
  {
   "cell_type": "code",
   "execution_count": 80,
   "metadata": {},
   "outputs": [
    {
     "name": "stdout",
     "output_type": "stream",
     "text": [
      "1555\n"
     ]
    }
   ],
   "source": [
    "print(len(df_close))"
   ]
  },
  {
   "cell_type": "code",
   "execution_count": 83,
   "metadata": {},
   "outputs": [
    {
     "data": {
      "text/plain": [
       "[<matplotlib.lines.Line2D at 0x2d7d06670>]"
      ]
     },
     "execution_count": 83,
     "metadata": {},
     "output_type": "execute_result"
    },
    {
     "data": {
      "image/png": "[encoded data removed]",
      "text/plain": [
       "<Figure size 432x288 with 1 Axes>"
      ]
     },
     "metadata": {
      "needs_background": "light"
     },
     "output_type": "display_data"
    }
   ],
   "source": [
    "day_new=np.arange(1,70)\n",
    "day_pred=np.arange(70,100)\n",
    "plt.plot(day_new,scaler.inverse_transform(df_close[1486:]))\n",
    "plt.plot(day_pred,scaler.inverse_transform(lst_output))"
   ]
  },
  {
   "cell_type": "code",
   "execution_count": 84,
   "metadata": {},
   "outputs": [
    {
     "data": {
      "text/plain": [
       "[<matplotlib.lines.Line2D at 0x2e2f3bf40>]"
      ]
     },
     "execution_count": 84,
     "metadata": {},
     "output_type": "execute_result"
    },
    {
     "data": {
      "image/png": "[encoded data removed]",
      "text/plain": [
       "<Figure size 432x288 with 1 Axes>"
      ]
     },
     "metadata": {
      "needs_background": "light"
     },
     "output_type": "display_data"
    }
   ],
   "source": [
    "df_new=df_close.tolist()\n",
    "df_new.extend(lst_output)\n",
    "plt.plot(df_new[1200:])"
   ]
  },
  {
   "cell_type": "code",
   "execution_count": 85,
   "metadata": {},
   "outputs": [
    {
     "data": {
      "text/plain": [
       "[<matplotlib.lines.Line2D at 0x2b2ff4910>]"
      ]
     },
     "execution_count": 85,
     "metadata": {},
     "output_type": "execute_result"
    },
    {
     "data": {
      "image/png": "[encoded data removed]",
      "text/plain": [
       "<Figure size 432x288 with 1 Axes>"
      ]
     },
     "metadata": {
      "needs_background": "light"
     },
     "output_type": "display_data"
    }
   ],
   "source": [
    "df_new=scaler.inverse_transform(df_new).tolist()\n",
    "plt.plot(df_new)"
   ]
  }
 ],
 "metadata": {
  "interpreter": {
   "hash": "a8503c7e3c56e4c95b66d6acd996c20bad58647448db124ac4a57c9b3e242cba"
  },
  "kernelspec": {
   "display_name": "Python 3.9.10 ('base')",
   "language": "python",
   "name": "python3"
  },
  "language_info": {
   "codemirror_mode": {
    "name": "ipython",
    "version": 3
   },
   "file_extension": ".py",
   "mimetype": "text/x-python",
   "name": "python",
   "nbconvert_exporter": "python",
   "pygments_lexer": "ipython3",
   "version": "3.9.10"
  },
  "orig_nbformat": 4
 },
 "nbformat": 4,
 "nbformat_minor": 2
}
