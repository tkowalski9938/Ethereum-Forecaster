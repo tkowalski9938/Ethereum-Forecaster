{
 "cells": [
  {
   "cell_type": "code",
   "execution_count": 253,
   "metadata": {},
   "outputs": [],
   "source": [
    "import numpy as np\n",
    "import pandas as pd\n",
    "import matplotlib.pyplot as plt\n",
    "import tensorflow as tf\n",
    "from tensorflow.keras.models import Sequential\n",
    "from tensorflow.keras.layers import Dense\n",
    "from tensorflow.keras.layers import LSTM\n",
    "from sklearn.preprocessing import MinMaxScaler\n",
    "import math \n",
    "from sklearn.metrics import mean_squared_error"
   ]
  },
  {
   "cell_type": "code",
   "execution_count": 270,
   "metadata": {},
   "outputs": [],
   "source": [
    "timestep = 50\n",
    "days_predict = 14"
   ]
  },
  {
   "cell_type": "code",
   "execution_count": 271,
   "metadata": {},
   "outputs": [
    {
     "name": "stdout",
     "output_type": "stream",
     "text": [
      "(404, 50, 1)\n",
      "(404,)\n",
      "(0,)\n",
      "(0,)\n"
     ]
    }
   ],
   "source": [
    "x_train = np.load(\"./data/x_train.npy\")\n",
    "y_train = np.load(\"./data/y_train.npy\")\n",
    "x_test = np.load(\"./data/x_test.npy\")\n",
    "y_test = np.load(\"./data/y_test.npy\")\n",
    "print(x_train.shape)\n",
    "print(y_train.shape)\n",
    "print(x_test.shape)\n",
    "print(y_test.shape)\n"
   ]
  },
  {
   "cell_type": "code",
   "execution_count": 313,
   "metadata": {},
   "outputs": [
    {
     "name": "stdout",
     "output_type": "stream",
     "text": [
      "Model: \"sequential_22\"\n",
      "_________________________________________________________________\n",
      " Layer (type)                Output Shape              Param #   \n",
      "=================================================================\n",
      " lstm_96 (LSTM)              (None, 50, 50)            10400     \n",
      "                                                                 \n",
      " lstm_97 (LSTM)              (None, 50, 50)            20200     \n",
      "                                                                 \n",
      " lstm_98 (LSTM)              (None, 50)                20200     \n",
      "                                                                 \n",
      " dense_21 (Dense)            (None, 1)                 51        \n",
      "                                                                 \n",
      "=================================================================\n",
      "Total params: 50,851\n",
      "Trainable params: 50,851\n",
      "Non-trainable params: 0\n",
      "_________________________________________________________________\n"
     ]
    }
   ],
   "source": [
    "model = Sequential()\n",
    "model.add(LSTM(50, return_sequences=True,input_shape=(timestep,1)))\n",
    "model.add(LSTM(50,return_sequences=True))\n",
    "model.add(LSTM(50))\n",
    "model.add(Dense(1))\n",
    "model.compile(loss='mean_squared_error',optimizer='adam')\n",
    "model.summary()\n"
   ]
  },
  {
   "cell_type": "code",
   "execution_count": 314,
   "metadata": {},
   "outputs": [
    {
     "name": "stdout",
     "output_type": "stream",
     "text": [
      "Epoch 1/50\n"
     ]
    },
    {
     "name": "stderr",
     "output_type": "stream",
     "text": [
      "2022-02-13 12:08:50.096390: I tensorflow/core/grappler/optimizers/custom_graph_optimizer_registry.cc:112] Plugin optimizer for device_type GPU is enabled.\n",
      "2022-02-13 12:08:50.497723: I tensorflow/core/grappler/optimizers/custom_graph_optimizer_registry.cc:112] Plugin optimizer for device_type GPU is enabled.\n",
      "2022-02-13 12:08:50.652156: I tensorflow/core/grappler/optimizers/custom_graph_optimizer_registry.cc:112] Plugin optimizer for device_type GPU is enabled.\n",
      "2022-02-13 12:08:50.831545: I tensorflow/core/grappler/optimizers/custom_graph_optimizer_registry.cc:112] Plugin optimizer for device_type GPU is enabled.\n",
      "2022-02-13 12:08:51.043802: I tensorflow/core/grappler/optimizers/custom_graph_optimizer_registry.cc:112] Plugin optimizer for device_type GPU is enabled.\n",
      "2022-02-13 12:08:51.341548: I tensorflow/core/grappler/optimizers/custom_graph_optimizer_registry.cc:112] Plugin optimizer for device_type GPU is enabled.\n",
      "2022-02-13 12:08:51.660837: I tensorflow/core/grappler/optimizers/custom_graph_optimizer_registry.cc:112] Plugin optimizer for device_type GPU is enabled.\n"
     ]
    },
    {
     "name": "stdout",
     "output_type": "stream",
     "text": [
      "13/13 [==============================] - 4s 129ms/step - loss: 0.2070\n",
      "Epoch 2/50\n",
      "13/13 [==============================] - 1s 57ms/step - loss: 0.0216\n",
      "Epoch 3/50\n",
      "13/13 [==============================] - 1s 49ms/step - loss: 0.0162\n",
      "Epoch 4/50\n",
      "13/13 [==============================] - 1s 51ms/step - loss: 0.0096\n",
      "Epoch 5/50\n",
      "13/13 [==============================] - 1s 53ms/step - loss: 0.0081\n",
      "Epoch 6/50\n",
      "13/13 [==============================] - 1s 53ms/step - loss: 0.0066\n",
      "Epoch 7/50\n",
      "13/13 [==============================] - 1s 51ms/step - loss: 0.0056\n",
      "Epoch 8/50\n",
      "13/13 [==============================] - 1s 49ms/step - loss: 0.0050\n",
      "Epoch 9/50\n",
      "13/13 [==============================] - 1s 48ms/step - loss: 0.0052\n",
      "Epoch 10/50\n",
      "13/13 [==============================] - 1s 49ms/step - loss: 0.0045\n",
      "Epoch 11/50\n",
      "13/13 [==============================] - 1s 48ms/step - loss: 0.0047\n",
      "Epoch 12/50\n",
      "13/13 [==============================] - 1s 49ms/step - loss: 0.0048\n",
      "Epoch 13/50\n",
      "13/13 [==============================] - 1s 49ms/step - loss: 0.0044\n",
      "Epoch 14/50\n",
      "13/13 [==============================] - 1s 49ms/step - loss: 0.0044\n",
      "Epoch 15/50\n",
      "13/13 [==============================] - 1s 50ms/step - loss: 0.0042\n",
      "Epoch 16/50\n",
      "13/13 [==============================] - 1s 50ms/step - loss: 0.0043\n",
      "Epoch 17/50\n",
      "13/13 [==============================] - 1s 48ms/step - loss: 0.0039\n",
      "Epoch 18/50\n",
      "13/13 [==============================] - 1s 51ms/step - loss: 0.0042\n",
      "Epoch 19/50\n",
      "13/13 [==============================] - 1s 50ms/step - loss: 0.0045\n",
      "Epoch 20/50\n",
      "13/13 [==============================] - 1s 49ms/step - loss: 0.0043\n",
      "Epoch 21/50\n",
      "13/13 [==============================] - 1s 47ms/step - loss: 0.0037\n",
      "Epoch 22/50\n",
      "13/13 [==============================] - 1s 48ms/step - loss: 0.0037\n",
      "Epoch 23/50\n",
      "13/13 [==============================] - 1s 47ms/step - loss: 0.0038\n",
      "Epoch 24/50\n",
      "13/13 [==============================] - 1s 48ms/step - loss: 0.0045\n",
      "Epoch 25/50\n",
      "13/13 [==============================] - 1s 48ms/step - loss: 0.0043\n",
      "Epoch 26/50\n",
      "13/13 [==============================] - 1s 48ms/step - loss: 0.0041\n",
      "Epoch 27/50\n",
      "13/13 [==============================] - 1s 50ms/step - loss: 0.0034\n",
      "Epoch 28/50\n",
      "13/13 [==============================] - 1s 53ms/step - loss: 0.0035\n",
      "Epoch 29/50\n",
      "13/13 [==============================] - 1s 49ms/step - loss: 0.0041\n",
      "Epoch 30/50\n",
      "13/13 [==============================] - 1s 48ms/step - loss: 0.0043\n",
      "Epoch 31/50\n",
      "13/13 [==============================] - 1s 50ms/step - loss: 0.0036: 0s - loss: 0.\n",
      "Epoch 32/50\n",
      "13/13 [==============================] - 1s 50ms/step - loss: 0.0032\n",
      "Epoch 33/50\n",
      "13/13 [==============================] - 1s 49ms/step - loss: 0.0033\n",
      "Epoch 34/50\n",
      "13/13 [==============================] - 1s 51ms/step - loss: 0.0031\n",
      "Epoch 35/50\n",
      "13/13 [==============================] - 1s 50ms/step - loss: 0.0032\n",
      "Epoch 36/50\n",
      "13/13 [==============================] - 1s 49ms/step - loss: 0.0033\n",
      "Epoch 37/50\n",
      "13/13 [==============================] - 1s 52ms/step - loss: 0.0034\n",
      "Epoch 38/50\n",
      "13/13 [==============================] - 1s 50ms/step - loss: 0.0034\n",
      "Epoch 39/50\n",
      "13/13 [==============================] - 1s 49ms/step - loss: 0.0032\n",
      "Epoch 40/50\n",
      "13/13 [==============================] - 1s 50ms/step - loss: 0.0033\n",
      "Epoch 41/50\n",
      "13/13 [==============================] - 1s 53ms/step - loss: 0.0030\n",
      "Epoch 42/50\n",
      "13/13 [==============================] - 1s 49ms/step - loss: 0.0030\n",
      "Epoch 43/50\n",
      "13/13 [==============================] - 1s 49ms/step - loss: 0.0033\n",
      "Epoch 44/50\n",
      "13/13 [==============================] - 1s 50ms/step - loss: 0.0033\n",
      "Epoch 45/50\n",
      "13/13 [==============================] - 1s 49ms/step - loss: 0.0032\n",
      "Epoch 46/50\n",
      "13/13 [==============================] - 1s 49ms/step - loss: 0.0037\n",
      "Epoch 47/50\n",
      "13/13 [==============================] - 1s 51ms/step - loss: 0.0028\n",
      "Epoch 48/50\n",
      "13/13 [==============================] - 1s 50ms/step - loss: 0.0028\n",
      "Epoch 49/50\n",
      "13/13 [==============================] - 1s 49ms/step - loss: 0.0031\n",
      "Epoch 50/50\n",
      "13/13 [==============================] - 1s 50ms/step - loss: 0.0028\n"
     ]
    },
    {
     "data": {
      "text/plain": [
       "<keras.callbacks.History at 0x378737310>"
      ]
     },
     "execution_count": 314,
     "metadata": {},
     "output_type": "execute_result"
    }
   ],
   "source": [
    "#don't need mini-batches on such small data\n",
    "model.fit(x_train,y_train,validation_data=(x_test,y_test), epochs=50,verbose=1)"
   ]
  },
  {
   "cell_type": "code",
   "execution_count": 315,
   "metadata": {},
   "outputs": [],
   "source": [
    "#needed to do here again, purely so can do scaler inverse \n",
    "#transform, to be able to calculuse RMSE\n",
    "df = pd.read_csv('./data/ETH-CAD.csv')\n",
    "df = df.iloc[1100:]\n",
    "df_close = df.reset_index()['Close']\n",
    "\n",
    "scaler = MinMaxScaler(feature_range=(0,1))\n",
    "df_close = scaler.fit_transform(np.array(df_close).reshape(-1,1))\n",
    "\n"
   ]
  },
  {
   "cell_type": "code",
   "execution_count": 316,
   "metadata": {},
   "outputs": [
    {
     "name": "stderr",
     "output_type": "stream",
     "text": [
      "2022-02-13 12:09:29.684730: I tensorflow/core/grappler/optimizers/custom_graph_optimizer_registry.cc:112] Plugin optimizer for device_type GPU is enabled.\n",
      "2022-02-13 12:09:29.781858: I tensorflow/core/grappler/optimizers/custom_graph_optimizer_registry.cc:112] Plugin optimizer for device_type GPU is enabled.\n",
      "2022-02-13 12:09:29.902893: I tensorflow/core/grappler/optimizers/custom_graph_optimizer_registry.cc:112] Plugin optimizer for device_type GPU is enabled.\n",
      "2022-02-13 12:09:30.055563: I tensorflow/core/grappler/optimizers/custom_graph_optimizer_registry.cc:112] Plugin optimizer for device_type GPU is enabled.\n"
     ]
    }
   ],
   "source": [
    "train_predict = model.predict(x_train)\n",
    "train_predict = scaler.inverse_transform(train_predict)\n",
    "# test_predict = model.predict(x_test)\n",
    "# test_predict = scaler.inverse_transform(test_predict)\n"
   ]
  },
  {
   "cell_type": "code",
   "execution_count": 317,
   "metadata": {},
   "outputs": [
    {
     "name": "stdout",
     "output_type": "stream",
     "text": [
      "3686.5104290849963\n"
     ]
    }
   ],
   "source": [
    "print(math.sqrt(mean_squared_error(y_train, train_predict)))\n",
    "# print(math.sqrt(mean_squared_error(y_test, test_predict)))"
   ]
  },
  {
   "cell_type": "code",
   "execution_count": 318,
   "metadata": {},
   "outputs": [
    {
     "data": {
      "image/png": "[encoded data removed]",
      "text/plain": [
       "<Figure size 432x288 with 1 Axes>"
      ]
     },
     "metadata": {
      "needs_background": "light"
     },
     "output_type": "display_data"
    }
   ],
   "source": [
    "look_back=timestep\n",
    "trainPredictPlot = np.empty_like(df_close)\n",
    "trainPredictPlot[:, :] = np.nan\n",
    "trainPredictPlot[look_back:len(train_predict)+look_back, :] = train_predict\n",
    "# shift test predictions for plotting\n",
    "# testPredictPlot = np.empty_like(df_close)\n",
    "# testPredictPlot[:, :] = np.nan\n",
    "# testPredictPlot[len(train_predict)+(look_back*2)+1:len(df_close)-1, :] = test_predict\n",
    "# plot baseline and predictions\n",
    "plt.plot(scaler.inverse_transform(df_close))\n",
    "plt.plot(trainPredictPlot)\n",
    "# plt.plot(testPredictPlot)\n",
    "plt.show()"
   ]
  },
  {
   "cell_type": "code",
   "execution_count": 319,
   "metadata": {},
   "outputs": [
    {
     "name": "stdout",
     "output_type": "stream",
     "text": [
      "0\n"
     ]
    }
   ],
   "source": [
    "training_size = int(len(df_close)*1)\n",
    "test_size = int(len(df_close)) - training_size\n",
    "train_data, test_data = df_close[0:training_size:],df_close[training_size:len(df_close),:1]\n",
    "print(len(test_data))"
   ]
  },
  {
   "cell_type": "code",
   "execution_count": 320,
   "metadata": {},
   "outputs": [
    {
     "data": {
      "text/plain": [
       "[0.8619922629618395,\n",
       " 0.8565227900951236,\n",
       " 0.847371407394502,\n",
       " 0.7933121360421234,\n",
       " 0.7501827686502149,\n",
       " 0.767859208690344,\n",
       " 0.753243326209241,\n",
       " 0.7736225399190171,\n",
       " 0.7889946783423815,\n",
       " 0.7794315322122519,\n",
       " 0.7838743092407803,\n",
       " 0.7301868364518009,\n",
       " 0.6971086913092457,\n",
       " 0.6387726502354524,\n",
       " 0.6151238325017366,\n",
       " 0.630812614636399,\n",
       " 0.6143849369931796,\n",
       " 0.6454338318524336,\n",
       " 0.6720201482596297,\n",
       " 0.643635102152242,\n",
       " 0.6602838065910315,\n",
       " 0.6650535347816721,\n",
       " 0.6694822065851238,\n",
       " 0.6357625007273459,\n",
       " 0.6234999265020779,\n",
       " 0.6084650922449323,\n",
       " 0.586001247114701,\n",
       " 0.4871168646642454,\n",
       " 0.45153341844758565,\n",
       " 0.48093060333868287,\n",
       " 0.4618089225159613,\n",
       " 0.46504611148384845,\n",
       " 0.46967727433719353,\n",
       " 0.4631843604705662,\n",
       " 0.49344955778809263,\n",
       " 0.505269264944121,\n",
       " 0.5064083503831667,\n",
       " 0.5243397238674721,\n",
       " 0.5473787630105033,\n",
       " 0.5215399318702482,\n",
       " 0.5202757982000573,\n",
       " 0.596552932830748,\n",
       " 0.6033514592901124,\n",
       " 0.6129052921792871,\n",
       " 0.6283207408580925,\n",
       " 0.625965126976077,\n",
       " 0.6516769209099397,\n",
       " 0.6169258625934966,\n",
       " 0.5814262790617849,\n",
       " 0.5689498212045413]"
      ]
     },
     "execution_count": 320,
     "metadata": {},
     "output_type": "execute_result"
    }
   ],
   "source": [
    "#len(test_data)-num_steps_back is the number to which you index here\n",
    "x_input=train_data[(len(train_data))-timestep:].reshape(1,-1)\n",
    "x_input.shape\n",
    "temp_input=list(x_input)\n",
    "temp_input=temp_input[0].tolist()\n",
    "temp_input\n"
   ]
  },
  {
   "cell_type": "code",
   "execution_count": 321,
   "metadata": {},
   "outputs": [
    {
     "name": "stdout",
     "output_type": "stream",
     "text": [
      "[0.6571665]\n",
      "51\n",
      "1 day input [0.85652279 0.84737141 0.79331214 0.75018277 0.76785921 0.75324333\n",
      " 0.77362254 0.78899468 0.77943153 0.78387431 0.73018684 0.69710869\n",
      " 0.63877265 0.61512383 0.63081261 0.61438494 0.64543383 0.67202015\n",
      " 0.6436351  0.66028381 0.66505353 0.66948221 0.6357625  0.62349993\n",
      " 0.60846509 0.58600125 0.48711686 0.45153342 0.4809306  0.46180892\n",
      " 0.46504611 0.46967727 0.46318436 0.49344956 0.50526926 0.50640835\n",
      " 0.52433972 0.54737876 0.52153993 0.5202758  0.59655293 0.60335146\n",
      " 0.61290529 0.62832074 0.62596513 0.65167692 0.61692586 0.58142628\n",
      " 0.56894982 0.65716648]\n",
      "1 day output [[0.6481719]]\n",
      "2 day input [0.84737141 0.79331214 0.75018277 0.76785921 0.75324333 0.77362254\n",
      " 0.78899468 0.77943153 0.78387431 0.73018684 0.69710869 0.63877265\n",
      " 0.61512383 0.63081261 0.61438494 0.64543383 0.67202015 0.6436351\n",
      " 0.66028381 0.66505353 0.66948221 0.6357625  0.62349993 0.60846509\n",
      " 0.58600125 0.48711686 0.45153342 0.4809306  0.46180892 0.46504611\n",
      " 0.46967727 0.46318436 0.49344956 0.50526926 0.50640835 0.52433972\n",
      " 0.54737876 0.52153993 0.5202758  0.59655293 0.60335146 0.61290529\n",
      " 0.62832074 0.62596513 0.65167692 0.61692586 0.58142628 0.56894982\n",
      " 0.65716648 0.6481719 ]\n",
      "2 day output [[0.6468501]]\n",
      "3 day input [0.79331214 0.75018277 0.76785921 0.75324333 0.77362254 0.78899468\n",
      " 0.77943153 0.78387431 0.73018684 0.69710869 0.63877265 0.61512383\n",
      " 0.63081261 0.61438494 0.64543383 0.67202015 0.6436351  0.66028381\n",
      " 0.66505353 0.66948221 0.6357625  0.62349993 0.60846509 0.58600125\n",
      " 0.48711686 0.45153342 0.4809306  0.46180892 0.46504611 0.46967727\n",
      " 0.46318436 0.49344956 0.50526926 0.50640835 0.52433972 0.54737876\n",
      " 0.52153993 0.5202758  0.59655293 0.60335146 0.61290529 0.62832074\n",
      " 0.62596513 0.65167692 0.61692586 0.58142628 0.56894982 0.65716648\n",
      " 0.6481719  0.64685011]\n",
      "3 day output [[0.65183467]]\n",
      "4 day input [0.75018277 0.76785921 0.75324333 0.77362254 0.78899468 0.77943153\n",
      " 0.78387431 0.73018684 0.69710869 0.63877265 0.61512383 0.63081261\n",
      " 0.61438494 0.64543383 0.67202015 0.6436351  0.66028381 0.66505353\n",
      " 0.66948221 0.6357625  0.62349993 0.60846509 0.58600125 0.48711686\n",
      " 0.45153342 0.4809306  0.46180892 0.46504611 0.46967727 0.46318436\n",
      " 0.49344956 0.50526926 0.50640835 0.52433972 0.54737876 0.52153993\n",
      " 0.5202758  0.59655293 0.60335146 0.61290529 0.62832074 0.62596513\n",
      " 0.65167692 0.61692586 0.58142628 0.56894982 0.65716648 0.6481719\n",
      " 0.64685011 0.65183467]\n",
      "4 day output [[0.66083044]]\n",
      "5 day input [0.76785921 0.75324333 0.77362254 0.78899468 0.77943153 0.78387431\n",
      " 0.73018684 0.69710869 0.63877265 0.61512383 0.63081261 0.61438494\n",
      " 0.64543383 0.67202015 0.6436351  0.66028381 0.66505353 0.66948221\n",
      " 0.6357625  0.62349993 0.60846509 0.58600125 0.48711686 0.45153342\n",
      " 0.4809306  0.46180892 0.46504611 0.46967727 0.46318436 0.49344956\n",
      " 0.50526926 0.50640835 0.52433972 0.54737876 0.52153993 0.5202758\n",
      " 0.59655293 0.60335146 0.61290529 0.62832074 0.62596513 0.65167692\n",
      " 0.61692586 0.58142628 0.56894982 0.65716648 0.6481719  0.64685011\n",
      " 0.65183467 0.66083044]\n",
      "5 day output [[0.6720765]]\n",
      "6 day input [0.75324333 0.77362254 0.78899468 0.77943153 0.78387431 0.73018684\n",
      " 0.69710869 0.63877265 0.61512383 0.63081261 0.61438494 0.64543383\n",
      " 0.67202015 0.6436351  0.66028381 0.66505353 0.66948221 0.6357625\n",
      " 0.62349993 0.60846509 0.58600125 0.48711686 0.45153342 0.4809306\n",
      " 0.46180892 0.46504611 0.46967727 0.46318436 0.49344956 0.50526926\n",
      " 0.50640835 0.52433972 0.54737876 0.52153993 0.5202758  0.59655293\n",
      " 0.60335146 0.61290529 0.62832074 0.62596513 0.65167692 0.61692586\n",
      " 0.58142628 0.56894982 0.65716648 0.6481719  0.64685011 0.65183467\n",
      " 0.66083044 0.67207652]\n",
      "6 day output [[0.68459713]]\n",
      "7 day input [0.77362254 0.78899468 0.77943153 0.78387431 0.73018684 0.69710869\n",
      " 0.63877265 0.61512383 0.63081261 0.61438494 0.64543383 0.67202015\n",
      " 0.6436351  0.66028381 0.66505353 0.66948221 0.6357625  0.62349993\n",
      " 0.60846509 0.58600125 0.48711686 0.45153342 0.4809306  0.46180892\n",
      " 0.46504611 0.46967727 0.46318436 0.49344956 0.50526926 0.50640835\n",
      " 0.52433972 0.54737876 0.52153993 0.5202758  0.59655293 0.60335146\n",
      " 0.61290529 0.62832074 0.62596513 0.65167692 0.61692586 0.58142628\n",
      " 0.56894982 0.65716648 0.6481719  0.64685011 0.65183467 0.66083044\n",
      " 0.67207652 0.68459713]\n",
      "7 day output [[0.6980065]]\n",
      "8 day input [0.78899468 0.77943153 0.78387431 0.73018684 0.69710869 0.63877265\n",
      " 0.61512383 0.63081261 0.61438494 0.64543383 0.67202015 0.6436351\n",
      " 0.66028381 0.66505353 0.66948221 0.6357625  0.62349993 0.60846509\n",
      " 0.58600125 0.48711686 0.45153342 0.4809306  0.46180892 0.46504611\n",
      " 0.46967727 0.46318436 0.49344956 0.50526926 0.50640835 0.52433972\n",
      " 0.54737876 0.52153993 0.5202758  0.59655293 0.60335146 0.61290529\n",
      " 0.62832074 0.62596513 0.65167692 0.61692586 0.58142628 0.56894982\n",
      " 0.65716648 0.6481719  0.64685011 0.65183467 0.66083044 0.67207652\n",
      " 0.68459713 0.69800651]\n",
      "8 day output [[0.7122502]]\n",
      "9 day input [0.77943153 0.78387431 0.73018684 0.69710869 0.63877265 0.61512383\n",
      " 0.63081261 0.61438494 0.64543383 0.67202015 0.6436351  0.66028381\n",
      " 0.66505353 0.66948221 0.6357625  0.62349993 0.60846509 0.58600125\n",
      " 0.48711686 0.45153342 0.4809306  0.46180892 0.46504611 0.46967727\n",
      " 0.46318436 0.49344956 0.50526926 0.50640835 0.52433972 0.54737876\n",
      " 0.52153993 0.5202758  0.59655293 0.60335146 0.61290529 0.62832074\n",
      " 0.62596513 0.65167692 0.61692586 0.58142628 0.56894982 0.65716648\n",
      " 0.6481719  0.64685011 0.65183467 0.66083044 0.67207652 0.68459713\n",
      " 0.69800651 0.71225017]\n",
      "9 day output [[0.72741616]]\n",
      "10 day input [0.78387431 0.73018684 0.69710869 0.63877265 0.61512383 0.63081261\n",
      " 0.61438494 0.64543383 0.67202015 0.6436351  0.66028381 0.66505353\n",
      " 0.66948221 0.6357625  0.62349993 0.60846509 0.58600125 0.48711686\n",
      " 0.45153342 0.4809306  0.46180892 0.46504611 0.46967727 0.46318436\n",
      " 0.49344956 0.50526926 0.50640835 0.52433972 0.54737876 0.52153993\n",
      " 0.5202758  0.59655293 0.60335146 0.61290529 0.62832074 0.62596513\n",
      " 0.65167692 0.61692586 0.58142628 0.56894982 0.65716648 0.6481719\n",
      " 0.64685011 0.65183467 0.66083044 0.67207652 0.68459713 0.69800651\n",
      " 0.71225017 0.72741616]\n",
      "10 day output [[0.7436353]]\n",
      "11 day input [0.73018684 0.69710869 0.63877265 0.61512383 0.63081261 0.61438494\n",
      " 0.64543383 0.67202015 0.6436351  0.66028381 0.66505353 0.66948221\n",
      " 0.6357625  0.62349993 0.60846509 0.58600125 0.48711686 0.45153342\n",
      " 0.4809306  0.46180892 0.46504611 0.46967727 0.46318436 0.49344956\n",
      " 0.50526926 0.50640835 0.52433972 0.54737876 0.52153993 0.5202758\n",
      " 0.59655293 0.60335146 0.61290529 0.62832074 0.62596513 0.65167692\n",
      " 0.61692586 0.58142628 0.56894982 0.65716648 0.6481719  0.64685011\n",
      " 0.65183467 0.66083044 0.67207652 0.68459713 0.69800651 0.71225017\n",
      " 0.72741616 0.7436353 ]\n",
      "11 day output [[0.7610397]]\n",
      "12 day input [0.69710869 0.63877265 0.61512383 0.63081261 0.61438494 0.64543383\n",
      " 0.67202015 0.6436351  0.66028381 0.66505353 0.66948221 0.6357625\n",
      " 0.62349993 0.60846509 0.58600125 0.48711686 0.45153342 0.4809306\n",
      " 0.46180892 0.46504611 0.46967727 0.46318436 0.49344956 0.50526926\n",
      " 0.50640835 0.52433972 0.54737876 0.52153993 0.5202758  0.59655293\n",
      " 0.60335146 0.61290529 0.62832074 0.62596513 0.65167692 0.61692586\n",
      " 0.58142628 0.56894982 0.65716648 0.6481719  0.64685011 0.65183467\n",
      " 0.66083044 0.67207652 0.68459713 0.69800651 0.71225017 0.72741616\n",
      " 0.7436353  0.76103967]\n",
      "12 day output [[0.7797581]]\n",
      "13 day input [0.63877265 0.61512383 0.63081261 0.61438494 0.64543383 0.67202015\n",
      " 0.6436351  0.66028381 0.66505353 0.66948221 0.6357625  0.62349993\n",
      " 0.60846509 0.58600125 0.48711686 0.45153342 0.4809306  0.46180892\n",
      " 0.46504611 0.46967727 0.46318436 0.49344956 0.50526926 0.50640835\n",
      " 0.52433972 0.54737876 0.52153993 0.5202758  0.59655293 0.60335146\n",
      " 0.61290529 0.62832074 0.62596513 0.65167692 0.61692586 0.58142628\n",
      " 0.56894982 0.65716648 0.6481719  0.64685011 0.65183467 0.66083044\n",
      " 0.67207652 0.68459713 0.69800651 0.71225017 0.72741616 0.7436353\n",
      " 0.76103967 0.7797581 ]\n",
      "13 day output [[0.79991966]]\n",
      "[[0.6571664810180664], [0.6481719017028809], [0.6468501091003418], [0.6518346667289734], [0.6608304381370544], [0.6720765233039856], [0.6845971345901489], [0.6980065107345581], [0.7122501730918884], [0.7274161577224731], [0.7436352968215942], [0.761039674282074], [0.779758095741272], [0.7999196648597717]]\n"
     ]
    }
   ],
   "source": [
    "#just to make trying training all the data predicitons easier\n",
    "test_data = train_data\n",
    "\n",
    "lst_output=[]\n",
    "n_steps=timestep\n",
    "i=0\n",
    "while(i<days_predict):\n",
    "    \n",
    "    if(len(temp_input)>timestep):\n",
    "        #print(temp_input)\n",
    "        x_input=np.array(temp_input[1:])\n",
    "        print(\"{} day input {}\".format(i,x_input))\n",
    "        x_input=x_input.reshape(1,-1)\n",
    "        x_input = x_input.reshape((1, n_steps, 1))\n",
    "        #print(x_input)\n",
    "        yhat = model.predict(x_input, verbose=0)\n",
    "        print(\"{} day output {}\".format(i,yhat))\n",
    "        temp_input.extend(yhat[0].tolist())\n",
    "        temp_input=temp_input[1:]\n",
    "        #print(temp_input)\n",
    "        lst_output.extend(yhat.tolist())\n",
    "        i=i+1\n",
    "    else:\n",
    "        x_input = x_input.reshape((1, n_steps,1))\n",
    "        yhat = model.predict(x_input, verbose=0)\n",
    "        print(yhat[0])\n",
    "        temp_input.extend(yhat[0].tolist())\n",
    "        print(len(temp_input))\n",
    "        lst_output.extend(yhat.tolist())\n",
    "        i=i+1\n",
    "    \n",
    "\n",
    "print(lst_output)"
   ]
  },
  {
   "cell_type": "code",
   "execution_count": 322,
   "metadata": {},
   "outputs": [
    {
     "name": "stdout",
     "output_type": "stream",
     "text": [
      "455\n"
     ]
    }
   ],
   "source": [
    "print(len(df_close))"
   ]
  },
  {
   "cell_type": "code",
   "execution_count": 323,
   "metadata": {},
   "outputs": [
    {
     "data": {
      "text/plain": [
       "[<matplotlib.lines.Line2D at 0x3786f9400>]"
      ]
     },
     "execution_count": 323,
     "metadata": {},
     "output_type": "execute_result"
    },
    {
     "data": {
      "image/png": "[encoded data removed]",
      "text/plain": [
       "<Figure size 432x288 with 1 Axes>"
      ]
     },
     "metadata": {
      "needs_background": "light"
     },
     "output_type": "display_data"
    }
   ],
   "source": [
    "day_new=np.arange(1,timestep + 1)\n",
    "day_pred=np.arange(timestep + 1,timestep + 1 + days_predict)\n",
    "#this num is len(df_close)-30\n",
    "plt.plot(day_new,scaler.inverse_transform(df_close[len(df_close)-timestep:]))\n",
    "plt.plot(day_pred,scaler.inverse_transform(lst_output))"
   ]
  },
  {
   "cell_type": "code",
   "execution_count": 324,
   "metadata": {},
   "outputs": [
    {
     "data": {
      "text/plain": [
       "[<matplotlib.lines.Line2D at 0x30c643550>]"
      ]
     },
     "execution_count": 324,
     "metadata": {},
     "output_type": "execute_result"
    },
    {
     "data": {
      "image/png": "[encoded data removed]",
      "text/plain": [
       "<Figure size 432x288 with 1 Axes>"
      ]
     },
     "metadata": {
      "needs_background": "light"
     },
     "output_type": "display_data"
    }
   ],
   "source": [
    "df_new=df_close.tolist()\n",
    "df_new.extend(lst_output)\n",
    "plt.plot(df_new[:])"
   ]
  },
  {
   "cell_type": "code",
   "execution_count": 325,
   "metadata": {},
   "outputs": [
    {
     "data": {
      "text/plain": [
       "[<matplotlib.lines.Line2D at 0x3785784f0>]"
      ]
     },
     "execution_count": 325,
     "metadata": {},
     "output_type": "execute_result"
    },
    {
     "data": {
      "image/png": "[encoded data removed]",
      "text/plain": [
       "<Figure size 432x288 with 1 Axes>"
      ]
     },
     "metadata": {
      "needs_background": "light"
     },
     "output_type": "display_data"
    }
   ],
   "source": [
    "df_new=scaler.inverse_transform(df_new).tolist()\n",
    "plt.plot(df_new)"
   ]
  }
 ],
 "metadata": {
  "interpreter": {
   "hash": "a8503c7e3c56e4c95b66d6acd996c20bad58647448db124ac4a57c9b3e242cba"
  },
  "kernelspec": {
   "display_name": "Python 3.9.10 ('base')",
   "language": "python",
   "name": "python3"
  },
  "language_info": {
   "codemirror_mode": {
    "name": "ipython",
    "version": 3
   },
   "file_extension": ".py",
   "mimetype": "text/x-python",
   "name": "python",
   "nbconvert_exporter": "python",
   "pygments_lexer": "ipython3",
   "version": "3.9.10"
  },
  "orig_nbformat": 4
 },
 "nbformat": 4,
 "nbformat_minor": 2
}
