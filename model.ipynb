{
 "cells": [
  {
   "cell_type": "code",
   "execution_count": 102,
   "metadata": {},
   "outputs": [],
   "source": [
    "import numpy as np\n",
    "import pandas as pd\n",
    "import matplotlib.pyplot as plt\n",
    "import tensorflow as tf\n",
    "from tensorflow.keras.models import Sequential\n",
    "from tensorflow.keras.layers import Dense\n",
    "from tensorflow.keras.layers import LSTM\n",
    "from sklearn.preprocessing import MinMaxScaler\n",
    "import math \n",
    "from sklearn.metrics import mean_squared_error"
   ]
  },
  {
   "cell_type": "code",
   "execution_count": 103,
   "metadata": {},
   "outputs": [
    {
     "name": "stdout",
     "output_type": "stream",
     "text": [
      "(1368, 30, 1)\n",
      "(1368,)\n",
      "(125, 30, 1)\n",
      "(125,)\n"
     ]
    }
   ],
   "source": [
    "x_train = np.load(\"./data/x_train.npy\")\n",
    "y_train = np.load(\"./data/y_train.npy\")\n",
    "x_test = np.load(\"./data/x_test.npy\")\n",
    "y_test = np.load(\"./data/y_test.npy\")\n",
    "print(x_train.shape)\n",
    "print(y_train.shape)\n",
    "print(x_test.shape)\n",
    "print(y_test.shape)\n"
   ]
  },
  {
   "cell_type": "code",
   "execution_count": 104,
   "metadata": {},
   "outputs": [
    {
     "name": "stdout",
     "output_type": "stream",
     "text": [
      "Model: \"sequential_5\"\n",
      "_________________________________________________________________\n",
      " Layer (type)                Output Shape              Param #   \n",
      "=================================================================\n",
      " lstm_15 (LSTM)              (None, 30, 50)            10400     \n",
      "                                                                 \n",
      " lstm_16 (LSTM)              (None, 30, 50)            20200     \n",
      "                                                                 \n",
      " lstm_17 (LSTM)              (None, 50)                20200     \n",
      "                                                                 \n",
      " dense_5 (Dense)             (None, 1)                 51        \n",
      "                                                                 \n",
      "=================================================================\n",
      "Total params: 50,851\n",
      "Trainable params: 50,851\n",
      "Non-trainable params: 0\n",
      "_________________________________________________________________\n"
     ]
    }
   ],
   "source": [
    "model = Sequential()\n",
    "model.add(LSTM(50, return_sequences=True,input_shape=(30,1)))\n",
    "model.add(LSTM(50,return_sequences=True))\n",
    "model.add(LSTM(50))\n",
    "model.add(Dense(1))\n",
    "model.compile(loss='mean_squared_error',optimizer='adam')\n",
    "model.summary()\n"
   ]
  },
  {
   "cell_type": "code",
   "execution_count": 105,
   "metadata": {},
   "outputs": [
    {
     "name": "stdout",
     "output_type": "stream",
     "text": [
      "Epoch 1/25\n"
     ]
    },
    {
     "name": "stderr",
     "output_type": "stream",
     "text": [
      "2022-02-12 14:35:07.703040: I tensorflow/core/grappler/optimizers/custom_graph_optimizer_registry.cc:112] Plugin optimizer for device_type GPU is enabled.\n",
      "2022-02-12 14:35:07.983268: I tensorflow/core/grappler/optimizers/custom_graph_optimizer_registry.cc:112] Plugin optimizer for device_type GPU is enabled.\n",
      "2022-02-12 14:35:08.049879: I tensorflow/core/grappler/optimizers/custom_graph_optimizer_registry.cc:112] Plugin optimizer for device_type GPU is enabled.\n",
      "2022-02-12 14:35:08.114097: I tensorflow/core/grappler/optimizers/custom_graph_optimizer_registry.cc:112] Plugin optimizer for device_type GPU is enabled.\n",
      "2022-02-12 14:35:08.226317: I tensorflow/core/grappler/optimizers/custom_graph_optimizer_registry.cc:112] Plugin optimizer for device_type GPU is enabled.\n",
      "2022-02-12 14:35:08.358006: I tensorflow/core/grappler/optimizers/custom_graph_optimizer_registry.cc:112] Plugin optimizer for device_type GPU is enabled.\n"
     ]
    },
    {
     "name": "stdout",
     "output_type": "stream",
     "text": [
      " 2/43 [>.............................] - ETA: 2s - loss: 0.0790  "
     ]
    },
    {
     "name": "stderr",
     "output_type": "stream",
     "text": [
      "2022-02-12 14:35:08.494754: I tensorflow/core/grappler/optimizers/custom_graph_optimizer_registry.cc:112] Plugin optimizer for device_type GPU is enabled.\n"
     ]
    },
    {
     "name": "stdout",
     "output_type": "stream",
     "text": [
      "43/43 [==============================] - ETA: 0s - loss: 0.0204"
     ]
    },
    {
     "name": "stderr",
     "output_type": "stream",
     "text": [
      "2022-02-12 14:35:10.726989: I tensorflow/core/grappler/optimizers/custom_graph_optimizer_registry.cc:112] Plugin optimizer for device_type GPU is enabled.\n",
      "2022-02-12 14:35:10.837937: I tensorflow/core/grappler/optimizers/custom_graph_optimizer_registry.cc:112] Plugin optimizer for device_type GPU is enabled.\n",
      "2022-02-12 14:35:10.896793: I tensorflow/core/grappler/optimizers/custom_graph_optimizer_registry.cc:112] Plugin optimizer for device_type GPU is enabled.\n",
      "2022-02-12 14:35:10.964021: I tensorflow/core/grappler/optimizers/custom_graph_optimizer_registry.cc:112] Plugin optimizer for device_type GPU is enabled.\n"
     ]
    },
    {
     "name": "stdout",
     "output_type": "stream",
     "text": [
      "43/43 [==============================] - 4s 62ms/step - loss: 0.0204 - val_loss: 0.0085\n",
      "Epoch 2/25\n",
      "43/43 [==============================] - 2s 38ms/step - loss: 0.0023 - val_loss: 0.0049\n",
      "Epoch 3/25\n",
      "43/43 [==============================] - 2s 35ms/step - loss: 0.0013 - val_loss: 0.0041\n",
      "Epoch 4/25\n",
      "43/43 [==============================] - 1s 35ms/step - loss: 9.9136e-04 - val_loss: 0.0054\n",
      "Epoch 5/25\n",
      "43/43 [==============================] - 1s 35ms/step - loss: 9.4488e-04 - val_loss: 0.0035\n",
      "Epoch 6/25\n",
      "43/43 [==============================] - 2s 35ms/step - loss: 9.9152e-04 - val_loss: 0.0042\n",
      "Epoch 7/25\n",
      "43/43 [==============================] - 2s 35ms/step - loss: 8.6913e-04 - val_loss: 0.0034\n",
      "Epoch 8/25\n",
      "43/43 [==============================] - 2s 35ms/step - loss: 7.3127e-04 - val_loss: 0.0056\n",
      "Epoch 9/25\n",
      "43/43 [==============================] - 2s 35ms/step - loss: 7.3043e-04 - val_loss: 0.0030\n",
      "Epoch 10/25\n",
      "43/43 [==============================] - 2s 35ms/step - loss: 7.1751e-04 - val_loss: 0.0038\n",
      "Epoch 11/25\n",
      "43/43 [==============================] - 2s 35ms/step - loss: 6.1994e-04 - val_loss: 0.0048\n",
      "Epoch 12/25\n",
      "43/43 [==============================] - 2s 35ms/step - loss: 6.4782e-04 - val_loss: 0.0052\n",
      "Epoch 13/25\n",
      "43/43 [==============================] - 2s 36ms/step - loss: 6.8920e-04 - val_loss: 0.0041\n",
      "Epoch 14/25\n",
      "43/43 [==============================] - 2s 35ms/step - loss: 6.4660e-04 - val_loss: 0.0099\n",
      "Epoch 15/25\n",
      "43/43 [==============================] - 2s 35ms/step - loss: 6.1401e-04 - val_loss: 0.0105\n",
      "Epoch 16/25\n",
      "43/43 [==============================] - 2s 36ms/step - loss: 5.8747e-04 - val_loss: 0.0055\n",
      "Epoch 17/25\n",
      "43/43 [==============================] - 2s 36ms/step - loss: 5.8392e-04 - val_loss: 0.0079\n",
      "Epoch 18/25\n",
      "43/43 [==============================] - 2s 36ms/step - loss: 5.5764e-04 - val_loss: 0.0031\n",
      "Epoch 19/25\n",
      "43/43 [==============================] - 2s 35ms/step - loss: 5.4604e-04 - val_loss: 0.0054\n",
      "Epoch 20/25\n",
      "43/43 [==============================] - 2s 36ms/step - loss: 5.7918e-04 - val_loss: 0.0032\n",
      "Epoch 21/25\n",
      "43/43 [==============================] - 2s 37ms/step - loss: 5.7047e-04 - val_loss: 0.0049\n",
      "Epoch 22/25\n",
      "43/43 [==============================] - 2s 36ms/step - loss: 6.3387e-04 - val_loss: 0.0035\n",
      "Epoch 23/25\n",
      "43/43 [==============================] - 2s 35ms/step - loss: 5.3350e-04 - val_loss: 0.0050\n",
      "Epoch 24/25\n",
      "43/43 [==============================] - 2s 35ms/step - loss: 4.9293e-04 - val_loss: 0.0052\n",
      "Epoch 25/25\n",
      "43/43 [==============================] - 2s 36ms/step - loss: 5.1347e-04 - val_loss: 0.0034\n"
     ]
    },
    {
     "data": {
      "text/plain": [
       "<keras.callbacks.History at 0x2b2f069a0>"
      ]
     },
     "execution_count": 105,
     "metadata": {},
     "output_type": "execute_result"
    }
   ],
   "source": [
    "model.fit(x_train,y_train,validation_data=(x_test,y_test), epochs=25,batch_size=32,verbose=1)"
   ]
  },
  {
   "cell_type": "code",
   "execution_count": 111,
   "metadata": {},
   "outputs": [],
   "source": [
    "#needed to do here again, purely so can do scaler inverse \n",
    "#transform, to be able to calculuse RMSE\n",
    "df = pd.read_csv('./data/ETH-CAD.csv')\n",
    "df_close = df.reset_index()['Close']\n",
    "scaler = MinMaxScaler(feature_range=(0,1))\n",
    "df_close = scaler.fit_transform(np.array(df_close).reshape(-1,1))\n",
    "\n"
   ]
  },
  {
   "cell_type": "code",
   "execution_count": 112,
   "metadata": {},
   "outputs": [],
   "source": [
    "train_predict = model.predict(x_train)\n",
    "train_predict = scaler.inverse_transform(train_predict)\n",
    "test_predict = model.predict(x_test)\n",
    "test_predict = scaler.inverse_transform(test_predict)\n"
   ]
  },
  {
   "cell_type": "code",
   "execution_count": 113,
   "metadata": {},
   "outputs": [
    {
     "name": "stdout",
     "output_type": "stream",
     "text": [
      "1354.9338898902947\n",
      "4709.384104835278\n"
     ]
    }
   ],
   "source": [
    "print(math.sqrt(mean_squared_error(y_train, train_predict)))\n",
    "print(math.sqrt(mean_squared_error(y_test, test_predict)))"
   ]
  },
  {
   "cell_type": "code",
   "execution_count": 114,
   "metadata": {},
   "outputs": [
    {
     "data": {
      "image/png": "[encoded data removed]",
      "text/plain": [
       "<Figure size 432x288 with 1 Axes>"
      ]
     },
     "metadata": {
      "needs_background": "light"
     },
     "output_type": "display_data"
    }
   ],
   "source": [
    "look_back=30\n",
    "trainPredictPlot = np.empty_like(df_close)\n",
    "trainPredictPlot[:, :] = np.nan\n",
    "trainPredictPlot[look_back:len(train_predict)+look_back, :] = train_predict\n",
    "# shift test predictions for plotting\n",
    "testPredictPlot = np.empty_like(df_close)\n",
    "testPredictPlot[:, :] = np.nan\n",
    "testPredictPlot[len(train_predict)+(look_back*2)+1:len(df_close)-1, :] = test_predict\n",
    "# plot baseline and predictions\n",
    "plt.plot(scaler.inverse_transform(df_close))\n",
    "plt.plot(trainPredictPlot)\n",
    "plt.plot(testPredictPlot)\n",
    "plt.show()"
   ]
  },
  {
   "cell_type": "code",
   "execution_count": 115,
   "metadata": {},
   "outputs": [
    {
     "name": "stdout",
     "output_type": "stream",
     "text": [
      "156\n"
     ]
    }
   ],
   "source": [
    "training_size = int(len(df_close)*0.9)\n",
    "test_size = int(len(df_close)) - training_size\n",
    "train_data, test_data = df_close[0:training_size:],df_close[training_size:len(df_close),:1]\n",
    "print(len(test_data))"
   ]
  },
  {
   "cell_type": "code",
   "execution_count": 116,
   "metadata": {},
   "outputs": [
    {
     "data": {
      "text/plain": [
       "[0.6877214437247214,\n",
       " 0.6921059383767194,\n",
       " 0.6961769225212229,\n",
       " 0.6651806342441507,\n",
       " 0.6539084633862984,\n",
       " 0.6400879378218683,\n",
       " 0.6194384154800967,\n",
       " 0.5285405637176216,\n",
       " 0.4958310625886591,\n",
       " 0.5228539441423146,\n",
       " 0.5052766516942985,\n",
       " 0.5082523847235012,\n",
       " 0.5125095054547973,\n",
       " 0.5065410005450264,\n",
       " 0.5343617883292747,\n",
       " 0.5452268608748088,\n",
       " 0.546273946540081,\n",
       " 0.5627570684293299,\n",
       " 0.5839353284626813,\n",
       " 0.560183405413768,\n",
       " 0.5590213712066116,\n",
       " 0.6291378800496613,\n",
       " 0.6353873143383993,\n",
       " 0.6441695190122141,\n",
       " 0.6583399181605342,\n",
       " 0.6561745586148612,\n",
       " 0.6798097047889149,\n",
       " 0.6478653626273018,\n",
       " 0.6152329509002842,\n",
       " 0.6037641710108339]"
      ]
     },
     "execution_count": 116,
     "metadata": {},
     "output_type": "execute_result"
    }
   ],
   "source": [
    "#len(test_data)-num_steps_back is the number to which you index here\n",
    "x_input=test_data[126:].reshape(1,-1)\n",
    "x_input.shape\n",
    "temp_input=list(x_input)\n",
    "temp_input=temp_input[0].tolist()\n",
    "temp_input\n"
   ]
  },
  {
   "cell_type": "code",
   "execution_count": 117,
   "metadata": {},
   "outputs": [
    {
     "name": "stdout",
     "output_type": "stream",
     "text": [
      "[0.71164423]\n",
      "31\n",
      "1 day input [0.69210594 0.69617692 0.66518063 0.65390846 0.64008794 0.61943842\n",
      " 0.52854056 0.49583106 0.52285394 0.50527665 0.50825238 0.51250951\n",
      " 0.506541   0.53436179 0.54522686 0.54627395 0.56275707 0.58393533\n",
      " 0.56018341 0.55902137 0.62913788 0.63538731 0.64416952 0.65833992\n",
      " 0.65617456 0.6798097  0.64786536 0.61523295 0.60376417 0.71164423]\n",
      "1 day output [[0.702956]]\n",
      "2 day input [0.69617692 0.66518063 0.65390846 0.64008794 0.61943842 0.52854056\n",
      " 0.49583106 0.52285394 0.50527665 0.50825238 0.51250951 0.506541\n",
      " 0.53436179 0.54522686 0.54627395 0.56275707 0.58393533 0.56018341\n",
      " 0.55902137 0.62913788 0.63538731 0.64416952 0.65833992 0.65617456\n",
      " 0.6798097  0.64786536 0.61523295 0.60376417 0.71164423 0.70295602]\n",
      "2 day output [[0.70116055]]\n",
      "3 day input [0.66518063 0.65390846 0.64008794 0.61943842 0.52854056 0.49583106\n",
      " 0.52285394 0.50527665 0.50825238 0.51250951 0.506541   0.53436179\n",
      " 0.54522686 0.54627395 0.56275707 0.58393533 0.56018341 0.55902137\n",
      " 0.62913788 0.63538731 0.64416952 0.65833992 0.65617456 0.6798097\n",
      " 0.64786536 0.61523295 0.60376417 0.71164423 0.70295602 0.70116055]\n",
      "3 day output [[0.70772326]]\n",
      "4 day input [0.65390846 0.64008794 0.61943842 0.52854056 0.49583106 0.52285394\n",
      " 0.50527665 0.50825238 0.51250951 0.506541   0.53436179 0.54522686\n",
      " 0.54627395 0.56275707 0.58393533 0.56018341 0.55902137 0.62913788\n",
      " 0.63538731 0.64416952 0.65833992 0.65617456 0.6798097  0.64786536\n",
      " 0.61523295 0.60376417 0.71164423 0.70295602 0.70116055 0.70772326]\n",
      "4 day output [[0.7219116]]\n",
      "5 day input [0.64008794 0.61943842 0.52854056 0.49583106 0.52285394 0.50527665\n",
      " 0.50825238 0.51250951 0.506541   0.53436179 0.54522686 0.54627395\n",
      " 0.56275707 0.58393533 0.56018341 0.55902137 0.62913788 0.63538731\n",
      " 0.64416952 0.65833992 0.65617456 0.6798097  0.64786536 0.61523295\n",
      " 0.60376417 0.71164423 0.70295602 0.70116055 0.70772326 0.72191161]\n",
      "5 day output [[0.7415474]]\n",
      "6 day input [0.61943842 0.52854056 0.49583106 0.52285394 0.50527665 0.50825238\n",
      " 0.51250951 0.506541   0.53436179 0.54522686 0.54627395 0.56275707\n",
      " 0.58393533 0.56018341 0.55902137 0.62913788 0.63538731 0.64416952\n",
      " 0.65833992 0.65617456 0.6798097  0.64786536 0.61523295 0.60376417\n",
      " 0.71164423 0.70295602 0.70116055 0.70772326 0.72191161 0.74154741]\n",
      "6 day output [[0.7647441]]\n",
      "7 day input [0.52854056 0.49583106 0.52285394 0.50527665 0.50825238 0.51250951\n",
      " 0.506541   0.53436179 0.54522686 0.54627395 0.56275707 0.58393533\n",
      " 0.56018341 0.55902137 0.62913788 0.63538731 0.64416952 0.65833992\n",
      " 0.65617456 0.6798097  0.64786536 0.61523295 0.60376417 0.71164423\n",
      " 0.70295602 0.70116055 0.70772326 0.72191161 0.74154741 0.7647441 ]\n",
      "7 day output [[0.7900845]]\n",
      "8 day input [0.49583106 0.52285394 0.50527665 0.50825238 0.51250951 0.506541\n",
      " 0.53436179 0.54522686 0.54627395 0.56275707 0.58393533 0.56018341\n",
      " 0.55902137 0.62913788 0.63538731 0.64416952 0.65833992 0.65617456\n",
      " 0.6798097  0.64786536 0.61523295 0.60376417 0.71164423 0.70295602\n",
      " 0.70116055 0.70772326 0.72191161 0.74154741 0.7647441  0.79008448]\n",
      "8 day output [[0.8172204]]\n",
      "9 day input [0.52285394 0.50527665 0.50825238 0.51250951 0.506541   0.53436179\n",
      " 0.54522686 0.54627395 0.56275707 0.58393533 0.56018341 0.55902137\n",
      " 0.62913788 0.63538731 0.64416952 0.65833992 0.65617456 0.6798097\n",
      " 0.64786536 0.61523295 0.60376417 0.71164423 0.70295602 0.70116055\n",
      " 0.70772326 0.72191161 0.74154741 0.7647441  0.79008448 0.81722039]\n",
      "9 day output [[0.8450194]]\n",
      "10 day input [0.50527665 0.50825238 0.51250951 0.506541   0.53436179 0.54522686\n",
      " 0.54627395 0.56275707 0.58393533 0.56018341 0.55902137 0.62913788\n",
      " 0.63538731 0.64416952 0.65833992 0.65617456 0.6798097  0.64786536\n",
      " 0.61523295 0.60376417 0.71164423 0.70295602 0.70116055 0.70772326\n",
      " 0.72191161 0.74154741 0.7647441  0.79008448 0.81722039 0.8450194 ]\n",
      "10 day output [[0.8726041]]\n",
      "11 day input [0.50825238 0.51250951 0.506541   0.53436179 0.54522686 0.54627395\n",
      " 0.56275707 0.58393533 0.56018341 0.55902137 0.62913788 0.63538731\n",
      " 0.64416952 0.65833992 0.65617456 0.6798097  0.64786536 0.61523295\n",
      " 0.60376417 0.71164423 0.70295602 0.70116055 0.70772326 0.72191161\n",
      " 0.74154741 0.7647441  0.79008448 0.81722039 0.8450194  0.87260407]\n",
      "11 day output [[0.900351]]\n",
      "12 day input [0.51250951 0.506541   0.53436179 0.54522686 0.54627395 0.56275707\n",
      " 0.58393533 0.56018341 0.55902137 0.62913788 0.63538731 0.64416952\n",
      " 0.65833992 0.65617456 0.6798097  0.64786536 0.61523295 0.60376417\n",
      " 0.71164423 0.70295602 0.70116055 0.70772326 0.72191161 0.74154741\n",
      " 0.7647441  0.79008448 0.81722039 0.8450194  0.87260407 0.90035099]\n",
      "12 day output [[0.92795336]]\n",
      "13 day input [0.506541   0.53436179 0.54522686 0.54627395 0.56275707 0.58393533\n",
      " 0.56018341 0.55902137 0.62913788 0.63538731 0.64416952 0.65833992\n",
      " 0.65617456 0.6798097  0.64786536 0.61523295 0.60376417 0.71164423\n",
      " 0.70295602 0.70116055 0.70772326 0.72191161 0.74154741 0.7647441\n",
      " 0.79008448 0.81722039 0.8450194  0.87260407 0.90035099 0.92795336]\n",
      "13 day output [[0.9552853]]\n",
      "14 day input [0.53436179 0.54522686 0.54627395 0.56275707 0.58393533 0.56018341\n",
      " 0.55902137 0.62913788 0.63538731 0.64416952 0.65833992 0.65617456\n",
      " 0.6798097  0.64786536 0.61523295 0.60376417 0.71164423 0.70295602\n",
      " 0.70116055 0.70772326 0.72191161 0.74154741 0.7647441  0.79008448\n",
      " 0.81722039 0.8450194  0.87260407 0.90035099 0.92795336 0.95528531]\n",
      "14 day output [[0.9823368]]\n",
      "15 day input [0.54522686 0.54627395 0.56275707 0.58393533 0.56018341 0.55902137\n",
      " 0.62913788 0.63538731 0.64416952 0.65833992 0.65617456 0.6798097\n",
      " 0.64786536 0.61523295 0.60376417 0.71164423 0.70295602 0.70116055\n",
      " 0.70772326 0.72191161 0.74154741 0.7647441  0.79008448 0.81722039\n",
      " 0.8450194  0.87260407 0.90035099 0.92795336 0.95528531 0.98233682]\n",
      "15 day output [[1.008412]]\n",
      "16 day input [0.54627395 0.56275707 0.58393533 0.56018341 0.55902137 0.62913788\n",
      " 0.63538731 0.64416952 0.65833992 0.65617456 0.6798097  0.64786536\n",
      " 0.61523295 0.60376417 0.71164423 0.70295602 0.70116055 0.70772326\n",
      " 0.72191161 0.74154741 0.7647441  0.79008448 0.81722039 0.8450194\n",
      " 0.87260407 0.90035099 0.92795336 0.95528531 0.98233682 1.008412  ]\n",
      "16 day output [[1.0335472]]\n",
      "17 day input [0.56275707 0.58393533 0.56018341 0.55902137 0.62913788 0.63538731\n",
      " 0.64416952 0.65833992 0.65617456 0.6798097  0.64786536 0.61523295\n",
      " 0.60376417 0.71164423 0.70295602 0.70116055 0.70772326 0.72191161\n",
      " 0.74154741 0.7647441  0.79008448 0.81722039 0.8450194  0.87260407\n",
      " 0.90035099 0.92795336 0.95528531 0.98233682 1.008412   1.03354716]\n",
      "17 day output [[1.0576856]]\n",
      "18 day input [0.58393533 0.56018341 0.55902137 0.62913788 0.63538731 0.64416952\n",
      " 0.65833992 0.65617456 0.6798097  0.64786536 0.61523295 0.60376417\n",
      " 0.71164423 0.70295602 0.70116055 0.70772326 0.72191161 0.74154741\n",
      " 0.7647441  0.79008448 0.81722039 0.8450194  0.87260407 0.90035099\n",
      " 0.92795336 0.95528531 0.98233682 1.008412   1.03354716 1.05768561]\n",
      "18 day output [[1.0803034]]\n",
      "19 day input [0.56018341 0.55902137 0.62913788 0.63538731 0.64416952 0.65833992\n",
      " 0.65617456 0.6798097  0.64786536 0.61523295 0.60376417 0.71164423\n",
      " 0.70295602 0.70116055 0.70772326 0.72191161 0.74154741 0.7647441\n",
      " 0.79008448 0.81722039 0.8450194  0.87260407 0.90035099 0.92795336\n",
      " 0.95528531 0.98233682 1.008412   1.03354716 1.05768561 1.08030343]\n",
      "19 day output [[1.1010337]]\n",
      "20 day input [0.55902137 0.62913788 0.63538731 0.64416952 0.65833992 0.65617456\n",
      " 0.6798097  0.64786536 0.61523295 0.60376417 0.71164423 0.70295602\n",
      " 0.70116055 0.70772326 0.72191161 0.74154741 0.7647441  0.79008448\n",
      " 0.81722039 0.8450194  0.87260407 0.90035099 0.92795336 0.95528531\n",
      " 0.98233682 1.008412   1.03354716 1.05768561 1.08030343 1.10103369]\n",
      "20 day output [[1.1205974]]\n",
      "21 day input [0.62913788 0.63538731 0.64416952 0.65833992 0.65617456 0.6798097\n",
      " 0.64786536 0.61523295 0.60376417 0.71164423 0.70295602 0.70116055\n",
      " 0.70772326 0.72191161 0.74154741 0.7647441  0.79008448 0.81722039\n",
      " 0.8450194  0.87260407 0.90035099 0.92795336 0.95528531 0.98233682\n",
      " 1.008412   1.03354716 1.05768561 1.08030343 1.10103369 1.12059736]\n",
      "21 day output [[1.1383033]]\n",
      "22 day input [0.63538731 0.64416952 0.65833992 0.65617456 0.6798097  0.64786536\n",
      " 0.61523295 0.60376417 0.71164423 0.70295602 0.70116055 0.70772326\n",
      " 0.72191161 0.74154741 0.7647441  0.79008448 0.81722039 0.8450194\n",
      " 0.87260407 0.90035099 0.92795336 0.95528531 0.98233682 1.008412\n",
      " 1.03354716 1.05768561 1.08030343 1.10103369 1.12059736 1.13830328]\n",
      "22 day output [[1.1521766]]\n",
      "23 day input [0.64416952 0.65833992 0.65617456 0.6798097  0.64786536 0.61523295\n",
      " 0.60376417 0.71164423 0.70295602 0.70116055 0.70772326 0.72191161\n",
      " 0.74154741 0.7647441  0.79008448 0.81722039 0.8450194  0.87260407\n",
      " 0.90035099 0.92795336 0.95528531 0.98233682 1.008412   1.03354716\n",
      " 1.05768561 1.08030343 1.10103369 1.12059736 1.13830328 1.15217662]\n",
      "23 day output [[1.1639068]]\n",
      "24 day input [0.65833992 0.65617456 0.6798097  0.64786536 0.61523295 0.60376417\n",
      " 0.71164423 0.70295602 0.70116055 0.70772326 0.72191161 0.74154741\n",
      " 0.7647441  0.79008448 0.81722039 0.8450194  0.87260407 0.90035099\n",
      " 0.92795336 0.95528531 0.98233682 1.008412   1.03354716 1.05768561\n",
      " 1.08030343 1.10103369 1.12059736 1.13830328 1.15217662 1.16390681]\n",
      "24 day output [[1.1735209]]\n",
      "25 day input [0.65617456 0.6798097  0.64786536 0.61523295 0.60376417 0.71164423\n",
      " 0.70295602 0.70116055 0.70772326 0.72191161 0.74154741 0.7647441\n",
      " 0.79008448 0.81722039 0.8450194  0.87260407 0.90035099 0.92795336\n",
      " 0.95528531 0.98233682 1.008412   1.03354716 1.05768561 1.08030343\n",
      " 1.10103369 1.12059736 1.13830328 1.15217662 1.16390681 1.17352092]\n",
      "25 day output [[1.1809711]]\n",
      "26 day input [0.6798097  0.64786536 0.61523295 0.60376417 0.71164423 0.70295602\n",
      " 0.70116055 0.70772326 0.72191161 0.74154741 0.7647441  0.79008448\n",
      " 0.81722039 0.8450194  0.87260407 0.90035099 0.92795336 0.95528531\n",
      " 0.98233682 1.008412   1.03354716 1.05768561 1.08030343 1.10103369\n",
      " 1.12059736 1.13830328 1.15217662 1.16390681 1.17352092 1.18097115]\n",
      "26 day output [[1.1868516]]\n",
      "27 day input [0.64786536 0.61523295 0.60376417 0.71164423 0.70295602 0.70116055\n",
      " 0.70772326 0.72191161 0.74154741 0.7647441  0.79008448 0.81722039\n",
      " 0.8450194  0.87260407 0.90035099 0.92795336 0.95528531 0.98233682\n",
      " 1.008412   1.03354716 1.05768561 1.08030343 1.10103369 1.12059736\n",
      " 1.13830328 1.15217662 1.16390681 1.17352092 1.18097115 1.18685162]\n",
      "27 day output [[1.1902515]]\n",
      "28 day input [0.61523295 0.60376417 0.71164423 0.70295602 0.70116055 0.70772326\n",
      " 0.72191161 0.74154741 0.7647441  0.79008448 0.81722039 0.8450194\n",
      " 0.87260407 0.90035099 0.92795336 0.95528531 0.98233682 1.008412\n",
      " 1.03354716 1.05768561 1.08030343 1.10103369 1.12059736 1.13830328\n",
      " 1.15217662 1.16390681 1.17352092 1.18097115 1.18685162 1.19025147]\n",
      "28 day output [[1.1929896]]\n",
      "29 day input [0.60376417 0.71164423 0.70295602 0.70116055 0.70772326 0.72191161\n",
      " 0.74154741 0.7647441  0.79008448 0.81722039 0.8450194  0.87260407\n",
      " 0.90035099 0.92795336 0.95528531 0.98233682 1.008412   1.03354716\n",
      " 1.05768561 1.08030343 1.10103369 1.12059736 1.13830328 1.15217662\n",
      " 1.16390681 1.17352092 1.18097115 1.18685162 1.19025147 1.19298959]\n",
      "29 day output [[1.1950237]]\n",
      "[[0.7116442322731018], [0.7029560208320618], [0.7011605501174927], [0.7077232599258423], [0.721911609172821], [0.7415474057197571], [0.7647441029548645], [0.7900844812393188], [0.8172203898429871], [0.8450194001197815], [0.8726040720939636], [0.9003509879112244], [0.9279533624649048], [0.9552853107452393], [0.9823368191719055], [1.0084120035171509], [1.0335471630096436], [1.0576856136322021], [1.080303430557251], [1.1010336875915527], [1.1205973625183105], [1.138303279876709], [1.1521766185760498], [1.1639068126678467], [1.1735209226608276], [1.1809711456298828], [1.1868516206741333], [1.1902514696121216], [1.1929895877838135], [1.1950236558914185]]\n"
     ]
    }
   ],
   "source": [
    "lst_output=[]\n",
    "n_steps=30\n",
    "i=0\n",
    "while(i<30):\n",
    "    \n",
    "    if(len(temp_input)>30):\n",
    "        #print(temp_input)\n",
    "        x_input=np.array(temp_input[1:])\n",
    "        print(\"{} day input {}\".format(i,x_input))\n",
    "        x_input=x_input.reshape(1,-1)\n",
    "        x_input = x_input.reshape((1, n_steps, 1))\n",
    "        #print(x_input)\n",
    "        yhat = model.predict(x_input, verbose=0)\n",
    "        print(\"{} day output {}\".format(i,yhat))\n",
    "        temp_input.extend(yhat[0].tolist())\n",
    "        temp_input=temp_input[1:]\n",
    "        #print(temp_input)\n",
    "        lst_output.extend(yhat.tolist())\n",
    "        i=i+1\n",
    "    else:\n",
    "        x_input = x_input.reshape((1, n_steps,1))\n",
    "        yhat = model.predict(x_input, verbose=0)\n",
    "        print(yhat[0])\n",
    "        temp_input.extend(yhat[0].tolist())\n",
    "        print(len(temp_input))\n",
    "        lst_output.extend(yhat.tolist())\n",
    "        i=i+1\n",
    "    \n",
    "\n",
    "print(lst_output)"
   ]
  },
  {
   "cell_type": "code",
   "execution_count": 124,
   "metadata": {},
   "outputs": [
    {
     "name": "stdout",
     "output_type": "stream",
     "text": [
      "1555\n"
     ]
    }
   ],
   "source": [
    "print(len(df_close))"
   ]
  },
  {
   "cell_type": "code",
   "execution_count": 128,
   "metadata": {},
   "outputs": [
    {
     "data": {
      "text/plain": [
       "[<matplotlib.lines.Line2D at 0x2fd1bd250>]"
      ]
     },
     "execution_count": 128,
     "metadata": {},
     "output_type": "execute_result"
    },
    {
     "data": {
      "image/png": "[encoded data removed]",
      "text/plain": [
       "<Figure size 432x288 with 1 Axes>"
      ]
     },
     "metadata": {
      "needs_background": "light"
     },
     "output_type": "display_data"
    }
   ],
   "source": [
    "day_new=np.arange(1,31)\n",
    "day_pred=np.arange(31,61)\n",
    "#this num is len(df_close)-30\n",
    "plt.plot(day_new,scaler.inverse_transform(df_close[1525:]))\n",
    "plt.plot(day_pred,scaler.inverse_transform(lst_output))"
   ]
  },
  {
   "cell_type": "code",
   "execution_count": 129,
   "metadata": {},
   "outputs": [
    {
     "data": {
      "text/plain": [
       "[<matplotlib.lines.Line2D at 0x2c1796ee0>]"
      ]
     },
     "execution_count": 129,
     "metadata": {},
     "output_type": "execute_result"
    },
    {
     "data": {
      "image/png": "[encoded data removed]",
      "text/plain": [
       "<Figure size 432x288 with 1 Axes>"
      ]
     },
     "metadata": {
      "needs_background": "light"
     },
     "output_type": "display_data"
    }
   ],
   "source": [
    "df_new=df_close.tolist()\n",
    "df_new.extend(lst_output)\n",
    "plt.plot(df_new[1200:])"
   ]
  },
  {
   "cell_type": "code",
   "execution_count": 130,
   "metadata": {},
   "outputs": [
    {
     "data": {
      "text/plain": [
       "[<matplotlib.lines.Line2D at 0x2c1787cd0>]"
      ]
     },
     "execution_count": 130,
     "metadata": {},
     "output_type": "execute_result"
    },
    {
     "data": {
      "image/png": "[encoded data removed]",
      "text/plain": [
       "<Figure size 432x288 with 1 Axes>"
      ]
     },
     "metadata": {
      "needs_background": "light"
     },
     "output_type": "display_data"
    }
   ],
   "source": [
    "df_new=scaler.inverse_transform(df_new).tolist()\n",
    "plt.plot(df_new)"
   ]
  }
 ],
 "metadata": {
  "interpreter": {
   "hash": "a8503c7e3c56e4c95b66d6acd996c20bad58647448db124ac4a57c9b3e242cba"
  },
  "kernelspec": {
   "display_name": "Python 3.9.10 ('base')",
   "language": "python",
   "name": "python3"
  },
  "language_info": {
   "codemirror_mode": {
    "name": "ipython",
    "version": 3
   },
   "file_extension": ".py",
   "mimetype": "text/x-python",
   "name": "python",
   "nbconvert_exporter": "python",
   "pygments_lexer": "ipython3",
   "version": "3.9.10"
  },
  "orig_nbformat": 4
 },
 "nbformat": 4,
 "nbformat_minor": 2
}
