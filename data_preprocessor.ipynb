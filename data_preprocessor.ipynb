{
 "cells": [
  {
   "cell_type": "code",
   "execution_count": 10,
   "metadata": {},
   "outputs": [],
   "source": [
    "import pandas as pd\n",
    "from datetime import datetime"
   ]
  },
  {
   "cell_type": "code",
   "execution_count": 14,
   "metadata": {},
   "outputs": [
    {
     "name": "stdout",
     "output_type": "stream",
     "text": [
      "(2077, 5)\n",
      "    timestamp     open       high        low               close\n",
      "0  1639440000  4848.76    4848.76    4848.76             4848.76\n",
      "1  1637712000  5398.79    5479.28    5360.64             5479.28\n",
      "2  1613952000  2211.20    2219.63    2197.49             2197.49\n",
      "3  1613347200  2301.16    2319.99       2129  2313.1799999999994\n",
      "4  1613347140  2301.19  undefined  undefined           undefined\n"
     ]
    }
   ],
   "source": [
    "df = pd.read_csv(\"./data/ethereum-cad.csv\")\n",
    "print(df.shape)\n",
    "print(df.head())\n"
   ]
  },
  {
   "cell_type": "code",
   "execution_count": 15,
   "metadata": {},
   "outputs": [],
   "source": [
    "from datetime import datetime\n",
    "df['timestamp'] = [datetime.fromtimestamp(x) for x in df['timestamp']]"
   ]
  },
  {
   "cell_type": "code",
   "execution_count": 16,
   "metadata": {},
   "outputs": [
    {
     "name": "stdout",
     "output_type": "stream",
     "text": [
      "               timestamp       open\n",
      "0    2021-12-13 19:00:00  4848.7600\n",
      "1    2021-11-23 19:00:00  5398.7900\n",
      "2    2021-02-21 19:00:00  2211.2000\n",
      "3    2021-02-14 19:00:00  2301.1600\n",
      "4    2021-02-14 18:59:00  2301.1900\n",
      "...                  ...        ...\n",
      "2072 2015-08-10 20:00:00     1.3700\n",
      "2073 2015-08-09 20:00:00     0.8949\n",
      "2074 2015-08-08 20:00:00     0.9855\n",
      "2075 2015-08-07 20:00:00     1.0800\n",
      "2076 2015-08-06 20:00:00     3.6600\n",
      "\n",
      "[2077 rows x 2 columns]\n"
     ]
    }
   ],
   "source": [
    "df = df.drop([\"high\", \"low\", \"close\"], axis=1)\n",
    "print(df)\n"
   ]
  },
  {
   "cell_type": "code",
   "execution_count": 18,
   "metadata": {},
   "outputs": [
    {
     "name": "stdout",
     "output_type": "stream",
     "text": [
      "               timestamp       open\n",
      "0    2015-08-06 20:00:00     3.6600\n",
      "1    2015-08-07 20:00:00     1.0800\n",
      "2    2015-08-08 20:00:00     0.9855\n",
      "3    2015-08-09 20:00:00     0.8949\n",
      "4    2015-08-10 20:00:00     1.3700\n",
      "...                  ...        ...\n",
      "2072 2021-02-14 18:59:00  2301.1900\n",
      "2073 2021-02-14 19:00:00  2301.1600\n",
      "2074 2021-02-21 19:00:00  2211.2000\n",
      "2075 2021-11-23 19:00:00  5398.7900\n",
      "2076 2021-12-13 19:00:00  4848.7600\n",
      "\n",
      "[2077 rows x 2 columns]\n"
     ]
    }
   ],
   "source": [
    "df = df[::-1].reset_index(drop=True)\n",
    "print(df)\n"
   ]
  },
  {
   "cell_type": "code",
   "execution_count": 19,
   "metadata": {},
   "outputs": [
    {
     "data": {
      "text/plain": [
       "<AxesSubplot:>"
      ]
     },
     "execution_count": 19,
     "metadata": {},
     "output_type": "execute_result"
    },
    {
     "data": {
      "image/png": "[encoded data removed]",
      "text/plain": [
       "<Figure size 432x288 with 1 Axes>"
      ]
     },
     "metadata": {
      "needs_background": "light"
     },
     "output_type": "display_data"
    }
   ],
   "source": [
    "df['open'].plot()"
   ]
  }
 ],
 "metadata": {
  "interpreter": {
   "hash": "a8503c7e3c56e4c95b66d6acd996c20bad58647448db124ac4a57c9b3e242cba"
  },
  "kernelspec": {
   "display_name": "Python 3.9.2 ('base')",
   "language": "python",
   "name": "python3"
  },
  "language_info": {
   "codemirror_mode": {
    "name": "ipython",
    "version": 3
   },
   "file_extension": ".py",
   "mimetype": "text/x-python",
   "name": "python",
   "nbconvert_exporter": "python",
   "pygments_lexer": "ipython3",
   "version": "3.9.2"
  },
  "orig_nbformat": 4
 },
 "nbformat": 4,
 "nbformat_minor": 2
}
